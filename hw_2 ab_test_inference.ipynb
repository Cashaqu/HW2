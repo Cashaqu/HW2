{
 "cells": [
  {
   "cell_type": "markdown",
   "metadata": {},
   "source": [
    "\n",
    "# Задание:\n",
    "----\n",
    "\n",
    "<br>\n",
    "\n",
    "Вам предоставлен анонимизированные результаты **реального A/B тестирования**, проходившего когда-то в нашем отделе (`ab_test_ensembles.csv`). В тесте было два варианта работы сервиса - `standard` и `svm_ensemble_v_1_22`, где работали несколько моделей классификации для целей сервиса.\n",
    "\n",
    "<br>\n",
    "\n",
    "\n",
    "------\n",
    "Вам, как специалистам по машинному обучению предстоит ответить на **2 главных вопроса:**\n",
    "\n",
    "1. Стоит ли нам оставить старый вариант работы сервиса или заменить его на вариант работы с моделями классификации (используем всю выборку 200к+ пользователей).\n",
    "2. Кроме того, посчитайте вывод для типа пользователей (`user_type`). Стоит ли для новых (старых) пользователей оставить старый (новый) вариант работы сервиса.\n",
    "\n",
    "\n",
    "<br>\n",
    "\n",
    "Для того, чтобы освежить в памяти процесс тестирования статистических гипотез, непомню, что тестирование состоит из следующих частей:\n",
    "1. Дизайн эксперимента.\n",
    "2. Подготовка и запуск эксперимента.\n",
    "3. Сбор данных и аналитика полученных данных.\n",
    "4. Визуализация результатов тестирования.\n",
    "5. Тестирование гипотез.\n",
    "6. Вывод и интерпритация результатов.\n",
    "\n",
    "-----\n",
    "\n",
    "#### Критерии оценки задания:\n",
    "\n",
    "1. **Первое, что будет проверяться - вывод полученных результатов**, в случае если выводы сделаны не правильно, задание считается проваленным и на этом этап проверки заканчивается (пропускаются этапы код-ревью, оформления и визуализации, качество кода).\n",
    "2. В случае если результаты и интерпритация результатов оказались верны, проводится код-ревью и проверка этапа визуализаций, поиск проблемных точек, точек роста.\n",
    "3. **Максимальный балл** который можно получить, выполнив текущее задание: **2 балла за 1 вопрос, 2 балла за 2 вопрос и 1 балл за эффективный и аккуратный код.\n",
    "\n",
    "\n",
    "Удачи, примените все свои навыки, которые вам доступны на данный момент и покажите на что вы способны!"
   ]
  },
  {
   "cell_type": "code",
   "execution_count": 73,
   "metadata": {},
   "outputs": [],
   "source": [
    "import pandas as pd\n",
    "import numpy as np\n",
    "#import statistics\n",
    "#from scipy.stats import stats, norm, binom, beta, normaltest, probplot\n",
    "\n",
    "#import statsmodels.api as sm\n",
    "import matplotlib.pyplot as plt\n",
    "import seaborn as sns\n",
    "import warnings\n",
    "\n",
    "warnings.filterwarnings(\"ignore\")"
   ]
  },
  {
   "cell_type": "code",
   "execution_count": 74,
   "metadata": {
    "scrolled": true
   },
   "outputs": [
    {
     "data": {
      "text/html": [
       "<div>\n",
       "<style scoped>\n",
       "    .dataframe tbody tr th:only-of-type {\n",
       "        vertical-align: middle;\n",
       "    }\n",
       "\n",
       "    .dataframe tbody tr th {\n",
       "        vertical-align: top;\n",
       "    }\n",
       "\n",
       "    .dataframe thead th {\n",
       "        text-align: right;\n",
       "    }\n",
       "</style>\n",
       "<table border=\"1\" class=\"dataframe\">\n",
       "  <thead>\n",
       "    <tr style=\"text-align: right;\">\n",
       "      <th></th>\n",
       "      <th>user_id</th>\n",
       "      <th>timestamp</th>\n",
       "      <th>group</th>\n",
       "      <th>variants</th>\n",
       "      <th>converted</th>\n",
       "      <th>location</th>\n",
       "      <th>age_group</th>\n",
       "      <th>user_type</th>\n",
       "    </tr>\n",
       "  </thead>\n",
       "  <tbody>\n",
       "    <tr>\n",
       "      <th>0</th>\n",
       "      <td>9109b0dc-d393-497f-8d63-ba9a25dd16b4</td>\n",
       "      <td>2022-05-21 22:11:48.556739</td>\n",
       "      <td>control</td>\n",
       "      <td>standard</td>\n",
       "      <td>0</td>\n",
       "      <td>United Kingdom</td>\n",
       "      <td>18-25</td>\n",
       "      <td>registered_user</td>\n",
       "    </tr>\n",
       "    <tr>\n",
       "      <th>1</th>\n",
       "      <td>2430c3d2-f75b-4b31-8271-51b6a76c2652</td>\n",
       "      <td>2022-05-12 08:01:45.159739</td>\n",
       "      <td>control</td>\n",
       "      <td>standard</td>\n",
       "      <td>0</td>\n",
       "      <td>United Kingdom</td>\n",
       "      <td>42-49</td>\n",
       "      <td>registered_user</td>\n",
       "    </tr>\n",
       "    <tr>\n",
       "      <th>2</th>\n",
       "      <td>44788c4e-8dd2-4fad-b986-75e76f4adb64</td>\n",
       "      <td>2022-05-11 16:55:06.154213</td>\n",
       "      <td>treatment</td>\n",
       "      <td>svm_ensemble_v_1_22</td>\n",
       "      <td>0</td>\n",
       "      <td>United Kingdom</td>\n",
       "      <td>26-33</td>\n",
       "      <td>new_user</td>\n",
       "    </tr>\n",
       "    <tr>\n",
       "      <th>3</th>\n",
       "      <td>4699a417-506d-41b8-a354-6af6ad576963</td>\n",
       "      <td>2022-05-08 18:28:03.143765</td>\n",
       "      <td>treatment</td>\n",
       "      <td>svm_ensemble_v_1_22</td>\n",
       "      <td>0</td>\n",
       "      <td>United Kingdom</td>\n",
       "      <td>42-49</td>\n",
       "      <td>registered_user</td>\n",
       "    </tr>\n",
       "    <tr>\n",
       "      <th>4</th>\n",
       "      <td>304b0d28-bcdf-401a-9dff-66230d3ba0bc</td>\n",
       "      <td>2022-05-21 01:52:26.210827</td>\n",
       "      <td>control</td>\n",
       "      <td>standard</td>\n",
       "      <td>1</td>\n",
       "      <td>United Kingdom</td>\n",
       "      <td>42-49</td>\n",
       "      <td>registered_user</td>\n",
       "    </tr>\n",
       "    <tr>\n",
       "      <th>...</th>\n",
       "      <td>...</td>\n",
       "      <td>...</td>\n",
       "      <td>...</td>\n",
       "      <td>...</td>\n",
       "      <td>...</td>\n",
       "      <td>...</td>\n",
       "      <td>...</td>\n",
       "      <td>...</td>\n",
       "    </tr>\n",
       "    <tr>\n",
       "      <th>294473</th>\n",
       "      <td>497bf0f8-0092-4736-8ae7-775b6cc9736c</td>\n",
       "      <td>2022-05-03 22:28:38.630509</td>\n",
       "      <td>control</td>\n",
       "      <td>standard</td>\n",
       "      <td>0</td>\n",
       "      <td>United Kingdom</td>\n",
       "      <td>58+</td>\n",
       "      <td>new_user</td>\n",
       "    </tr>\n",
       "    <tr>\n",
       "      <th>294474</th>\n",
       "      <td>6cb20e62-e49d-41cf-97da-0e11cb439dca</td>\n",
       "      <td>2022-05-12 00:51:57.078372</td>\n",
       "      <td>control</td>\n",
       "      <td>standard</td>\n",
       "      <td>0</td>\n",
       "      <td>United Kingdom</td>\n",
       "      <td>42-49</td>\n",
       "      <td>new_user</td>\n",
       "    </tr>\n",
       "    <tr>\n",
       "      <th>294475</th>\n",
       "      <td>d307b0ad-92a1-409c-a2d2-da8f4a118576</td>\n",
       "      <td>2022-05-22 11:45:03.439544</td>\n",
       "      <td>control</td>\n",
       "      <td>standard</td>\n",
       "      <td>0</td>\n",
       "      <td>United Kingdom</td>\n",
       "      <td>18-25</td>\n",
       "      <td>registered_user</td>\n",
       "    </tr>\n",
       "    <tr>\n",
       "      <th>294476</th>\n",
       "      <td>c6bd8da5-2114-4fd4-92c6-e4b11a8be4dc</td>\n",
       "      <td>2022-05-15 01:20:28.957438</td>\n",
       "      <td>control</td>\n",
       "      <td>standard</td>\n",
       "      <td>0</td>\n",
       "      <td>United Kingdom</td>\n",
       "      <td>50-57</td>\n",
       "      <td>new_user</td>\n",
       "    </tr>\n",
       "    <tr>\n",
       "      <th>294477</th>\n",
       "      <td>4bc6ffc3-c33a-4aae-aca1-e4f16b0b94a0</td>\n",
       "      <td>2022-05-16 12:40:24.467417</td>\n",
       "      <td>treatment</td>\n",
       "      <td>svm_ensemble_v_1_22</td>\n",
       "      <td>0</td>\n",
       "      <td>United Kingdom</td>\n",
       "      <td>50-57</td>\n",
       "      <td>registered_user</td>\n",
       "    </tr>\n",
       "  </tbody>\n",
       "</table>\n",
       "<p>294478 rows × 8 columns</p>\n",
       "</div>"
      ],
      "text/plain": [
       "                                     user_id                   timestamp   \n",
       "0       9109b0dc-d393-497f-8d63-ba9a25dd16b4  2022-05-21 22:11:48.556739  \\\n",
       "1       2430c3d2-f75b-4b31-8271-51b6a76c2652  2022-05-12 08:01:45.159739   \n",
       "2       44788c4e-8dd2-4fad-b986-75e76f4adb64  2022-05-11 16:55:06.154213   \n",
       "3       4699a417-506d-41b8-a354-6af6ad576963  2022-05-08 18:28:03.143765   \n",
       "4       304b0d28-bcdf-401a-9dff-66230d3ba0bc  2022-05-21 01:52:26.210827   \n",
       "...                                      ...                         ...   \n",
       "294473  497bf0f8-0092-4736-8ae7-775b6cc9736c  2022-05-03 22:28:38.630509   \n",
       "294474  6cb20e62-e49d-41cf-97da-0e11cb439dca  2022-05-12 00:51:57.078372   \n",
       "294475  d307b0ad-92a1-409c-a2d2-da8f4a118576  2022-05-22 11:45:03.439544   \n",
       "294476  c6bd8da5-2114-4fd4-92c6-e4b11a8be4dc  2022-05-15 01:20:28.957438   \n",
       "294477  4bc6ffc3-c33a-4aae-aca1-e4f16b0b94a0  2022-05-16 12:40:24.467417   \n",
       "\n",
       "            group             variants  converted        location age_group   \n",
       "0         control             standard          0  United Kingdom     18-25  \\\n",
       "1         control             standard          0  United Kingdom     42-49   \n",
       "2       treatment  svm_ensemble_v_1_22          0  United Kingdom     26-33   \n",
       "3       treatment  svm_ensemble_v_1_22          0  United Kingdom     42-49   \n",
       "4         control             standard          1  United Kingdom     42-49   \n",
       "...           ...                  ...        ...             ...       ...   \n",
       "294473    control             standard          0  United Kingdom       58+   \n",
       "294474    control             standard          0  United Kingdom     42-49   \n",
       "294475    control             standard          0  United Kingdom     18-25   \n",
       "294476    control             standard          0  United Kingdom     50-57   \n",
       "294477  treatment  svm_ensemble_v_1_22          0  United Kingdom     50-57   \n",
       "\n",
       "              user_type  \n",
       "0       registered_user  \n",
       "1       registered_user  \n",
       "2              new_user  \n",
       "3       registered_user  \n",
       "4       registered_user  \n",
       "...                 ...  \n",
       "294473         new_user  \n",
       "294474         new_user  \n",
       "294475  registered_user  \n",
       "294476         new_user  \n",
       "294477  registered_user  \n",
       "\n",
       "[294478 rows x 8 columns]"
      ]
     },
     "execution_count": 74,
     "metadata": {},
     "output_type": "execute_result"
    }
   ],
   "source": [
    "df = pd.read_csv('./ab_test_ensembles.csv')\n",
    "df"
   ]
  },
  {
   "cell_type": "code",
   "execution_count": 75,
   "metadata": {
    "scrolled": false
   },
   "outputs": [],
   "source": [
    "#import numpy as np\n",
    "#import pandas as pd\n",
    "#import scipy.stats as stats\n",
    "#import statsmodels.stats.api as sms\n",
    "#import seaborn as sns\n",
    "#from math import ceil"
   ]
  },
  {
   "cell_type": "markdown",
   "metadata": {},
   "source": []
  },
  {
   "cell_type": "code",
   "execution_count": 76,
   "metadata": {},
   "outputs": [],
   "source": [
    "#    Заменим значения в group на A и B, в user_type - 0 и 1\n",
    "df['group'] = np.where(df['group'] == 'control', 'A', 'B')\n",
    "df['user_type'] = np.where(df['user_type'] == 'registered_user', 0, 1)"
   ]
  },
  {
   "cell_type": "code",
   "execution_count": 77,
   "metadata": {},
   "outputs": [
    {
     "data": {
      "text/plain": [
       "0"
      ]
     },
     "execution_count": 77,
     "metadata": {},
     "output_type": "execute_result"
    }
   ],
   "source": [
    "#    Посчитаем неуникальных пользователей\n",
    "nuniq_users = df['user_id'].value_counts(ascending = False)\n",
    "nuniq_users[nuniq_users > 1].count()"
   ]
  },
  {
   "cell_type": "code",
   "execution_count": 78,
   "metadata": {},
   "outputs": [],
   "source": [
    "#   Если бы неуникальные были, то удалим вот так:\n",
    "users_to_drop = nuniq_users[nuniq_users > 1].index\n",
    "df = df[~ df['user_id'].isin(users_to_drop)]"
   ]
  },
  {
   "cell_type": "markdown",
   "metadata": {},
   "source": [
    "## Проверка гипотез"
   ]
  },
  {
   "cell_type": "markdown",
   "metadata": {},
   "source": [
    "### Признак 'converted' по всем типам пользователей"
   ]
  },
  {
   "cell_type": "markdown",
   "metadata": {},
   "source": [
    "Нулевая гипотеза: нет статистически значимой разницы между пользователями A и B по признаку 'converted' \n",
    "Альтернативная гипотеза: есть статистически значимая разница между пользователями A и B по признаку 'converted'\n",
    "\n",
    "Делать выводы будем исходя из z-test"
   ]
  },
  {
   "cell_type": "code",
   "execution_count": 79,
   "metadata": {},
   "outputs": [],
   "source": [
    "#    функция для формирования сэмплов\n",
    "def sampling(n_sam, data, feature_AB):  \n",
    "    A_sample = data[data[feature_AB] == 'A'].sample(n = n_sam, random_state = 42)\n",
    "    B_sample = data[data[feature_AB] == 'B'].sample(n = n_sam, random_state = 42)\n",
    "    AB_sample = pd.concat([A_sample, B_sample], axis=0)\n",
    "    AB_sample.reset_index(drop=True, inplace=True)\n",
    "    \n",
    "    return AB_sample"
   ]
  },
  {
   "cell_type": "code",
   "execution_count": 80,
   "metadata": {
    "scrolled": true
   },
   "outputs": [],
   "source": [
    "#    подсчет p-value\n",
    "from statsmodels.stats.proportion import proportions_ztest, proportion_confint\n",
    "def pval_calc(feature_AB, feature_0_1, AB_sample):\n",
    "\n",
    "    A_results = AB_sample[AB_sample[feature_AB] == 'A'][feature_0_1]\n",
    "    B_results = AB_sample[AB_sample[feature_AB] == 'B'][feature_0_1]\n",
    "\n",
    "    num_A = A_results.count()\n",
    "    num_B = B_results.count()\n",
    "    A_B = [A_results.sum(), B_results.sum()]\n",
    "    nobs = [num_A, num_B]\n",
    "\n",
    "    z_stat, pval = proportions_ztest(A_B, nobs = nobs)\n",
    "    (lower_con, lower_treat), (upper_con, upper_treat) = proportion_confint(A_B, nobs=nobs, alpha=0.05)\n",
    "\n",
    "    print(f'Feature: {feature_0_1}')\n",
    "    print(f'z-stat: {z_stat:.2f}')\n",
    "    print(f'p-value: {pval:.3f}')\n",
    "    print(f'CI 95% for A group - [{lower_con:.4f}, {upper_con:.4f}]')\n",
    "    print(f'CI 95% for B group - [{lower_treat:.4f}, {upper_treat:.4f}]\\n')"
   ]
  },
  {
   "cell_type": "code",
   "execution_count": 81,
   "metadata": {},
   "outputs": [
    {
     "name": "stdout",
     "output_type": "stream",
     "text": [
      "Feature: converted\n",
      "z-stat: 1.34\n",
      "p-value: 0.181\n",
      "CI 95% for A group - [0.1213, 0.1304]\n",
      "CI 95% for B group - [0.1169, 0.1260]\n",
      "\n"
     ]
    }
   ],
   "source": [
    "pval_calc('group', 'converted', sampling(20000, df, 'group'))"
   ]
  },
  {
   "cell_type": "markdown",
   "metadata": {},
   "source": [
    "p-value > 0.05, следовательно отклонять нулевую гипотезу нельзя.\n",
    "Иными словами, показатель конверсии (converted) не имеет статистически значимой разницы при вводимых изменениях для группы пользователей control и treatment. Вводить в продакшн новую фичу не стоит."
   ]
  },
  {
   "cell_type": "markdown",
   "metadata": {},
   "source": [
    "### Признак 'converted' для каждого 'user_type'"
   ]
  },
  {
   "cell_type": "markdown",
   "metadata": {},
   "source": [
    "Тут мы разделим наш датасет по признаку new/registered user и будем вычислять p-value для отдельный категорий пользователей."
   ]
  },
  {
   "cell_type": "code",
   "execution_count": 82,
   "metadata": {},
   "outputs": [
    {
     "data": {
      "text/plain": [
       "user_type\n",
       "0    0.500003\n",
       "1    0.499997\n",
       "Name: proportion, dtype: float64"
      ]
     },
     "execution_count": 82,
     "metadata": {},
     "output_type": "execute_result"
    }
   ],
   "source": [
    "df['user_type'].value_counts(normalize=True)"
   ]
  },
  {
   "cell_type": "code",
   "execution_count": 83,
   "metadata": {},
   "outputs": [
    {
     "name": "stdout",
     "output_type": "stream",
     "text": [
      "Feature: converted\n",
      "z-stat: -0.15\n",
      "p-value: 0.877\n",
      "CI 95% for A group - [0.1134, 0.1223]\n",
      "CI 95% for B group - [0.1139, 0.1228]\n",
      "\n",
      "Feature: converted\n",
      "z-stat: -1.08\n",
      "p-value: 0.280\n",
      "CI 95% for A group - [0.1127, 0.1217]\n",
      "CI 95% for B group - [0.1162, 0.1252]\n",
      "\n"
     ]
    }
   ],
   "source": [
    "df_new_user = df[df['user_type'] == 1]\n",
    "df_old_user = df[df['user_type'] == 0]\n",
    "\n",
    "AB_sample_new_user = sampling(20000, df_new_user, 'group')\n",
    "AB_sample_old_user = sampling(20000, df_old_user, 'group')\n",
    "\n",
    "pval_calc('group', 'converted', AB_sample_new_user)\n",
    "pval_calc('group', 'converted', AB_sample_old_user)"
   ]
  },
  {
   "cell_type": "markdown",
   "metadata": {},
   "source": [
    "p-value - и для новых пользователей, и для старых - > 0.05. Также нет статистически значимых различий ни для одной из групп в type_user. Не стоит оставлять новую фичу ни для старых пользователей, ни для новых."
   ]
  },
  {
   "cell_type": "code",
   "execution_count": null,
   "metadata": {},
   "outputs": [],
   "source": []
  },
  {
   "cell_type": "code",
   "execution_count": null,
   "metadata": {},
   "outputs": [],
   "source": []
  },
  {
   "cell_type": "code",
   "execution_count": null,
   "metadata": {},
   "outputs": [],
   "source": []
  }
 ],
 "metadata": {
  "kernelspec": {
   "display_name": "Python 3 (ipykernel)",
   "language": "python",
   "name": "python3"
  },
  "language_info": {
   "codemirror_mode": {
    "name": "ipython",
    "version": 3
   },
   "file_extension": ".py",
   "mimetype": "text/x-python",
   "name": "python",
   "nbconvert_exporter": "python",
   "pygments_lexer": "ipython3",
   "version": "3.10.6"
  }
 },
 "nbformat": 4,
 "nbformat_minor": 1
}
