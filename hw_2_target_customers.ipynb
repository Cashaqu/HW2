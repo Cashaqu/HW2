{
 "cells": [
  {
   "cell_type": "markdown",
   "metadata": {
    "collapsed": true,
    "pycharm": {
     "name": "#%% md\n"
    }
   },
   "source": [
    "### *Задание*\n",
    "\n",
    "-----\n",
    "\n",
    "<br>\n",
    "\n",
    "Используя данные о выборке, постройте типичный портрет целевого клиента компании (пол, возраст, какой тип квартиры он приобретает, какова площадь в кв. м , каков средний чек, цель покупки, источник лида (погуглите что такое лид в маркетинге, за это отвечает колонка Source). Таким образом после вашего анализа, я хочу увидеть небольшое описание нашего целевого клиента с соответствующими визуализациями и статистическими выводами, что мы и прошли с вами на лекции. Используйте по максимуму ваши знания работы с датасетом (обработка, предобработка и приведение его к виду с которым можно работать).\n",
    "\n",
    "<br>\n",
    "\n",
    "Критерии оценки задания:\n",
    "\n",
    "1. Правильность и **подкрепленность выводами вашего статистического анализа** (используйте весь доступный вам инструментарий, какой - решите самостоятельно).\n",
    "2. Корректность использования графиков при графическом анализе. Не надо визуализировать все, что у вас есть в датасете, **подумайте какие признаки и какие взамосвязи можно и нужно показать, какие распределения важно отобразить.**\n",
    "3. Оформление и **эффективное использование кода.**\n",
    "\n",
    "**Максимальный балл за решение текущего задания 5 баллов.**\n",
    "\n",
    "Покажите, как вы можете самостоятельно работать с данными и ваше аналитическое мышление, подкрепленное цифрами и соответствующими выводами.\n",
    "Удачи."
   ]
  },
  {
   "cell_type": "markdown",
   "metadata": {},
   "source": [
    "### EDA"
   ]
  },
  {
   "cell_type": "markdown",
   "metadata": {},
   "source": [
    "##### Сразу импортируем библиотеки, которые нам понадобятся"
   ]
  },
  {
   "cell_type": "code",
   "execution_count": 40,
   "metadata": {
    "pycharm": {
     "name": "#%%\n"
    }
   },
   "outputs": [],
   "source": [
    "import pandas as pd\n",
    "import numpy as np\n",
    "import matplotlib.pyplot as plt\n",
    "import seaborn as sns\n",
    "import datetime as dt\n",
    "import warnings\n",
    "import re\n",
    "\n",
    "warnings.filterwarnings(\"ignore\")"
   ]
  },
  {
   "cell_type": "markdown",
   "metadata": {},
   "source": [
    "### Первичный анализ"
   ]
  },
  {
   "cell_type": "code",
   "execution_count": 41,
   "metadata": {
    "scrolled": true
   },
   "outputs": [
    {
     "data": {
      "text/html": [
       "<div>\n",
       "<style scoped>\n",
       "    .dataframe tbody tr th:only-of-type {\n",
       "        vertical-align: middle;\n",
       "    }\n",
       "\n",
       "    .dataframe tbody tr th {\n",
       "        vertical-align: top;\n",
       "    }\n",
       "\n",
       "    .dataframe thead th {\n",
       "        text-align: right;\n",
       "    }\n",
       "</style>\n",
       "<table border=\"1\" class=\"dataframe\">\n",
       "  <thead>\n",
       "    <tr style=\"text-align: right;\">\n",
       "      <th></th>\n",
       "      <th>ID</th>\n",
       "      <th>Building</th>\n",
       "      <th>Year of sale</th>\n",
       "      <th>Month of sale</th>\n",
       "      <th>Type of property</th>\n",
       "      <th>Property number</th>\n",
       "      <th>Area (ft.)</th>\n",
       "      <th>Price</th>\n",
       "      <th>Status</th>\n",
       "      <th>Customer ID</th>\n",
       "      <th>Entity</th>\n",
       "      <th>Name</th>\n",
       "      <th>Surname</th>\n",
       "      <th>Age at time of purchase</th>\n",
       "      <th>Age Interval</th>\n",
       "      <th>Y</th>\n",
       "      <th>M</th>\n",
       "      <th>D</th>\n",
       "      <th>Gender</th>\n",
       "      <th>Country</th>\n",
       "      <th>State</th>\n",
       "      <th>Purpose</th>\n",
       "      <th>Deal satisfaction</th>\n",
       "      <th>Mortgage</th>\n",
       "      <th>Source</th>\n",
       "    </tr>\n",
       "  </thead>\n",
       "  <tbody>\n",
       "    <tr>\n",
       "      <th>0</th>\n",
       "      <td>1030</td>\n",
       "      <td>1</td>\n",
       "      <td>2005</td>\n",
       "      <td>11</td>\n",
       "      <td>Apartment</td>\n",
       "      <td>30</td>\n",
       "      <td>743.09</td>\n",
       "      <td>$ 246,172.68</td>\n",
       "      <td>Sold</td>\n",
       "      <td>C0028</td>\n",
       "      <td>Individual</td>\n",
       "      <td>Madalyn</td>\n",
       "      <td>Mercer</td>\n",
       "      <td>19.0</td>\n",
       "      <td>18-25</td>\n",
       "      <td>1986.0</td>\n",
       "      <td>6.0</td>\n",
       "      <td>21.0</td>\n",
       "      <td>F</td>\n",
       "      <td>USA</td>\n",
       "      <td>California</td>\n",
       "      <td>Home</td>\n",
       "      <td>5</td>\n",
       "      <td>No</td>\n",
       "      <td>Website</td>\n",
       "    </tr>\n",
       "    <tr>\n",
       "      <th>1</th>\n",
       "      <td>1029</td>\n",
       "      <td>1</td>\n",
       "      <td>2005</td>\n",
       "      <td>10</td>\n",
       "      <td>Apartment</td>\n",
       "      <td>29</td>\n",
       "      <td>756.21</td>\n",
       "      <td>$ 246,331.90</td>\n",
       "      <td>Sold</td>\n",
       "      <td>C0027</td>\n",
       "      <td>Individual</td>\n",
       "      <td>Lara</td>\n",
       "      <td>Carrillo</td>\n",
       "      <td>22.0</td>\n",
       "      <td>18-25</td>\n",
       "      <td>1983.0</td>\n",
       "      <td>2.0</td>\n",
       "      <td>24.0</td>\n",
       "      <td>F</td>\n",
       "      <td>USA</td>\n",
       "      <td>California</td>\n",
       "      <td>Home</td>\n",
       "      <td>5</td>\n",
       "      <td>No</td>\n",
       "      <td>Website</td>\n",
       "    </tr>\n",
       "    <tr>\n",
       "      <th>2</th>\n",
       "      <td>2002</td>\n",
       "      <td>2</td>\n",
       "      <td>2007</td>\n",
       "      <td>7</td>\n",
       "      <td>Apartment</td>\n",
       "      <td>2</td>\n",
       "      <td>587.28</td>\n",
       "      <td>$ 209,280.91</td>\n",
       "      <td>Sold</td>\n",
       "      <td>C0112</td>\n",
       "      <td>Individual</td>\n",
       "      <td>Donavan</td>\n",
       "      <td>Flowers</td>\n",
       "      <td>22.0</td>\n",
       "      <td>18-25</td>\n",
       "      <td>1985.0</td>\n",
       "      <td>12.0</td>\n",
       "      <td>27.0</td>\n",
       "      <td>M</td>\n",
       "      <td>USA</td>\n",
       "      <td>California</td>\n",
       "      <td>Home</td>\n",
       "      <td>1</td>\n",
       "      <td>Yes</td>\n",
       "      <td>Client</td>\n",
       "    </tr>\n",
       "    <tr>\n",
       "      <th>3</th>\n",
       "      <td>2031</td>\n",
       "      <td>2</td>\n",
       "      <td>2007</td>\n",
       "      <td>12</td>\n",
       "      <td>Apartment</td>\n",
       "      <td>31</td>\n",
       "      <td>1604.75</td>\n",
       "      <td>$ 452,667.01</td>\n",
       "      <td>Sold</td>\n",
       "      <td>C0160</td>\n",
       "      <td>Individual</td>\n",
       "      <td>Darien</td>\n",
       "      <td>Dorsey</td>\n",
       "      <td>22.0</td>\n",
       "      <td>18-25</td>\n",
       "      <td>1985.0</td>\n",
       "      <td>12.0</td>\n",
       "      <td>27.0</td>\n",
       "      <td>M</td>\n",
       "      <td>USA</td>\n",
       "      <td>California</td>\n",
       "      <td>Investment</td>\n",
       "      <td>3</td>\n",
       "      <td>Yes</td>\n",
       "      <td>Website</td>\n",
       "    </tr>\n",
       "    <tr>\n",
       "      <th>4</th>\n",
       "      <td>1049</td>\n",
       "      <td>1</td>\n",
       "      <td>2004</td>\n",
       "      <td>11</td>\n",
       "      <td>Apartment</td>\n",
       "      <td>49</td>\n",
       "      <td>1375.45</td>\n",
       "      <td>$ 467,083.31</td>\n",
       "      <td>Sold</td>\n",
       "      <td>C0014</td>\n",
       "      <td>Individual</td>\n",
       "      <td>Alessandra</td>\n",
       "      <td>Perry</td>\n",
       "      <td>25.0</td>\n",
       "      <td>18-25</td>\n",
       "      <td>1979.0</td>\n",
       "      <td>5.0</td>\n",
       "      <td>15.0</td>\n",
       "      <td>F</td>\n",
       "      <td>USA</td>\n",
       "      <td>California</td>\n",
       "      <td>Home</td>\n",
       "      <td>4</td>\n",
       "      <td>No</td>\n",
       "      <td>Agency</td>\n",
       "    </tr>\n",
       "  </tbody>\n",
       "</table>\n",
       "</div>"
      ],
      "text/plain": [
       "     ID  Building  Year of sale  Month of sale Type of property   \n",
       "0  1030         1          2005             11        Apartment  \\\n",
       "1  1029         1          2005             10        Apartment   \n",
       "2  2002         2          2007              7        Apartment   \n",
       "3  2031         2          2007             12        Apartment   \n",
       "4  1049         1          2004             11        Apartment   \n",
       "\n",
       "   Property number  Area (ft.)           Price  Status Customer ID   \n",
       "0               30      743.09   $ 246,172.68    Sold        C0028  \\\n",
       "1               29      756.21   $ 246,331.90    Sold        C0027   \n",
       "2                2      587.28   $ 209,280.91    Sold        C0112   \n",
       "3               31     1604.75   $ 452,667.01    Sold        C0160   \n",
       "4               49     1375.45   $ 467,083.31    Sold        C0014   \n",
       "\n",
       "       Entity        Name   Surname  Age at time of purchase Age Interval    \n",
       "0  Individual     Madalyn    Mercer                     19.0         18-25  \\\n",
       "1  Individual        Lara  Carrillo                     22.0         18-25   \n",
       "2  Individual     Donavan   Flowers                     22.0         18-25   \n",
       "3  Individual      Darien    Dorsey                     22.0         18-25   \n",
       "4  Individual  Alessandra     Perry                     25.0         18-25   \n",
       "\n",
       "        Y     M     D Gender Country       State     Purpose   \n",
       "0  1986.0   6.0  21.0      F     USA  California        Home  \\\n",
       "1  1983.0   2.0  24.0      F     USA  California        Home   \n",
       "2  1985.0  12.0  27.0      M     USA  California        Home   \n",
       "3  1985.0  12.0  27.0      M     USA  California  Investment   \n",
       "4  1979.0   5.0  15.0      F     USA  California        Home   \n",
       "\n",
       "   Deal satisfaction Mortgage   Source  \n",
       "0                  5       No  Website  \n",
       "1                  5       No  Website  \n",
       "2                  1      Yes   Client  \n",
       "3                  3      Yes  Website  \n",
       "4                  4       No   Agency  "
      ]
     },
     "execution_count": 41,
     "metadata": {},
     "output_type": "execute_result"
    }
   ],
   "source": [
    "df = pd.read_csv('./clients.csv')\n",
    "\n",
    "#    выставим максимальное отображение колонок\n",
    "pd.set_option('display.max_columns', df.shape[1])\n",
    "df.head()"
   ]
  },
  {
   "cell_type": "code",
   "execution_count": 42,
   "metadata": {
    "scrolled": false
   },
   "outputs": [
    {
     "name": "stdout",
     "output_type": "stream",
     "text": [
      "<class 'pandas.core.frame.DataFrame'>\n",
      "RangeIndex: 195 entries, 0 to 194\n",
      "Data columns (total 25 columns):\n",
      " #   Column                   Non-Null Count  Dtype  \n",
      "---  ------                   --------------  -----  \n",
      " 0   ID                       195 non-null    int64  \n",
      " 1   Building                 195 non-null    int64  \n",
      " 2   Year of sale             195 non-null    int64  \n",
      " 3   Month of sale            195 non-null    int64  \n",
      " 4   Type of property         195 non-null    object \n",
      " 5   Property number          195 non-null    int64  \n",
      " 6   Area (ft.)               195 non-null    float64\n",
      " 7   Price                    195 non-null    object \n",
      " 8   Status                   195 non-null    object \n",
      " 9   Customer ID              195 non-null    object \n",
      " 10  Entity                   195 non-null    object \n",
      " 11  Name                     195 non-null    object \n",
      " 12  Surname                  195 non-null    object \n",
      " 13  Age at time of purchase  178 non-null    float64\n",
      " 14  Age Interval             178 non-null    object \n",
      " 15  Y                        178 non-null    float64\n",
      " 16  M                        178 non-null    float64\n",
      " 17  D                        178 non-null    float64\n",
      " 18  Gender                   178 non-null    object \n",
      " 19  Country                  195 non-null    object \n",
      " 20  State                    181 non-null    object \n",
      " 21  Purpose                  195 non-null    object \n",
      " 22  Deal satisfaction        195 non-null    int64  \n",
      " 23  Mortgage                 195 non-null    object \n",
      " 24  Source                   195 non-null    object \n",
      "dtypes: float64(5), int64(6), object(14)\n",
      "memory usage: 38.2+ KB\n"
     ]
    }
   ],
   "source": [
    "#    посмотрим на info\n",
    "df.info()"
   ]
  },
  {
   "cell_type": "markdown",
   "metadata": {},
   "source": [
    "Есть пропущенные значения, причем в некоторых колонках одинаковое количество.\n",
    "\n",
    "Посмотрим, что это за строки:"
   ]
  },
  {
   "cell_type": "code",
   "execution_count": 43,
   "metadata": {
    "scrolled": false
   },
   "outputs": [
    {
     "data": {
      "text/html": [
       "<div>\n",
       "<style scoped>\n",
       "    .dataframe tbody tr th:only-of-type {\n",
       "        vertical-align: middle;\n",
       "    }\n",
       "\n",
       "    .dataframe tbody tr th {\n",
       "        vertical-align: top;\n",
       "    }\n",
       "\n",
       "    .dataframe thead th {\n",
       "        text-align: right;\n",
       "    }\n",
       "</style>\n",
       "<table border=\"1\" class=\"dataframe\">\n",
       "  <thead>\n",
       "    <tr style=\"text-align: right;\">\n",
       "      <th></th>\n",
       "      <th>ID</th>\n",
       "      <th>Building</th>\n",
       "      <th>Year of sale</th>\n",
       "      <th>Month of sale</th>\n",
       "      <th>Type of property</th>\n",
       "      <th>Property number</th>\n",
       "      <th>Area (ft.)</th>\n",
       "      <th>Price</th>\n",
       "      <th>Status</th>\n",
       "      <th>Customer ID</th>\n",
       "      <th>Entity</th>\n",
       "      <th>Name</th>\n",
       "      <th>Surname</th>\n",
       "      <th>Age at time of purchase</th>\n",
       "      <th>Age Interval</th>\n",
       "      <th>Y</th>\n",
       "      <th>M</th>\n",
       "      <th>D</th>\n",
       "      <th>Gender</th>\n",
       "      <th>Country</th>\n",
       "      <th>State</th>\n",
       "      <th>Purpose</th>\n",
       "      <th>Deal satisfaction</th>\n",
       "      <th>Mortgage</th>\n",
       "      <th>Source</th>\n",
       "    </tr>\n",
       "  </thead>\n",
       "  <tbody>\n",
       "    <tr>\n",
       "      <th>178</th>\n",
       "      <td>1005</td>\n",
       "      <td>1</td>\n",
       "      <td>2004</td>\n",
       "      <td>3</td>\n",
       "      <td>Office</td>\n",
       "      <td>5</td>\n",
       "      <td>410.71</td>\n",
       "      <td>$ 117,564.07</td>\n",
       "      <td>Sold</td>\n",
       "      <td>C0001</td>\n",
       "      <td>Firm</td>\n",
       "      <td>Kamd</td>\n",
       "      <td>Co</td>\n",
       "      <td>NaN</td>\n",
       "      <td>NaN</td>\n",
       "      <td>NaN</td>\n",
       "      <td>NaN</td>\n",
       "      <td>NaN</td>\n",
       "      <td>NaN</td>\n",
       "      <td>USA</td>\n",
       "      <td>California</td>\n",
       "      <td>Investment</td>\n",
       "      <td>5</td>\n",
       "      <td>No</td>\n",
       "      <td>Agency</td>\n",
       "    </tr>\n",
       "    <tr>\n",
       "      <th>192</th>\n",
       "      <td>1034</td>\n",
       "      <td>1</td>\n",
       "      <td>2005</td>\n",
       "      <td>7</td>\n",
       "      <td>Apartment</td>\n",
       "      <td>34</td>\n",
       "      <td>625.80</td>\n",
       "      <td>$ 204,434.68</td>\n",
       "      <td>Sold</td>\n",
       "      <td>C0174</td>\n",
       "      <td>Firm</td>\n",
       "      <td>Marleez</td>\n",
       "      <td>Co</td>\n",
       "      <td>NaN</td>\n",
       "      <td>NaN</td>\n",
       "      <td>NaN</td>\n",
       "      <td>NaN</td>\n",
       "      <td>NaN</td>\n",
       "      <td>NaN</td>\n",
       "      <td>USA</td>\n",
       "      <td>California</td>\n",
       "      <td>Investment</td>\n",
       "      <td>5</td>\n",
       "      <td>No</td>\n",
       "      <td>Website</td>\n",
       "    </tr>\n",
       "    <tr>\n",
       "      <th>181</th>\n",
       "      <td>1011</td>\n",
       "      <td>1</td>\n",
       "      <td>2005</td>\n",
       "      <td>9</td>\n",
       "      <td>Office</td>\n",
       "      <td>11</td>\n",
       "      <td>827.87</td>\n",
       "      <td>$ 222,947.21</td>\n",
       "      <td>Sold</td>\n",
       "      <td>C0025</td>\n",
       "      <td>Firm</td>\n",
       "      <td>Abdiel</td>\n",
       "      <td>Co</td>\n",
       "      <td>NaN</td>\n",
       "      <td>NaN</td>\n",
       "      <td>NaN</td>\n",
       "      <td>NaN</td>\n",
       "      <td>NaN</td>\n",
       "      <td>NaN</td>\n",
       "      <td>USA</td>\n",
       "      <td>Nevada</td>\n",
       "      <td>Investment</td>\n",
       "      <td>5</td>\n",
       "      <td>Yes</td>\n",
       "      <td>Website</td>\n",
       "    </tr>\n",
       "    <tr>\n",
       "      <th>189</th>\n",
       "      <td>1020</td>\n",
       "      <td>1</td>\n",
       "      <td>2005</td>\n",
       "      <td>7</td>\n",
       "      <td>Apartment</td>\n",
       "      <td>20</td>\n",
       "      <td>1160.36</td>\n",
       "      <td>$ 398,903.42</td>\n",
       "      <td>Sold</td>\n",
       "      <td>C0174</td>\n",
       "      <td>Firm</td>\n",
       "      <td>Marleez</td>\n",
       "      <td>Co</td>\n",
       "      <td>NaN</td>\n",
       "      <td>NaN</td>\n",
       "      <td>NaN</td>\n",
       "      <td>NaN</td>\n",
       "      <td>NaN</td>\n",
       "      <td>NaN</td>\n",
       "      <td>USA</td>\n",
       "      <td>California</td>\n",
       "      <td>Investment</td>\n",
       "      <td>5</td>\n",
       "      <td>No</td>\n",
       "      <td>Website</td>\n",
       "    </tr>\n",
       "    <tr>\n",
       "      <th>182</th>\n",
       "      <td>1007</td>\n",
       "      <td>1</td>\n",
       "      <td>2005</td>\n",
       "      <td>12</td>\n",
       "      <td>Apartment</td>\n",
       "      <td>7</td>\n",
       "      <td>775.69</td>\n",
       "      <td>$ 250,312.53</td>\n",
       "      <td>Sold</td>\n",
       "      <td>C0029</td>\n",
       "      <td>Firm</td>\n",
       "      <td>Kenyon</td>\n",
       "      <td>Co</td>\n",
       "      <td>NaN</td>\n",
       "      <td>NaN</td>\n",
       "      <td>NaN</td>\n",
       "      <td>NaN</td>\n",
       "      <td>NaN</td>\n",
       "      <td>NaN</td>\n",
       "      <td>USA</td>\n",
       "      <td>Nevada</td>\n",
       "      <td>Investment</td>\n",
       "      <td>1</td>\n",
       "      <td>Yes</td>\n",
       "      <td>Website</td>\n",
       "    </tr>\n",
       "  </tbody>\n",
       "</table>\n",
       "</div>"
      ],
      "text/plain": [
       "       ID  Building  Year of sale  Month of sale Type of property   \n",
       "178  1005         1          2004              3           Office  \\\n",
       "192  1034         1          2005              7        Apartment   \n",
       "181  1011         1          2005              9           Office   \n",
       "189  1020         1          2005              7        Apartment   \n",
       "182  1007         1          2005             12        Apartment   \n",
       "\n",
       "     Property number  Area (ft.)           Price  Status Customer ID Entity   \n",
       "178                5      410.71   $ 117,564.07    Sold        C0001   Firm  \\\n",
       "192               34      625.80   $ 204,434.68    Sold        C0174   Firm   \n",
       "181               11      827.87   $ 222,947.21    Sold        C0025   Firm   \n",
       "189               20     1160.36   $ 398,903.42    Sold        C0174   Firm   \n",
       "182                7      775.69   $ 250,312.53    Sold        C0029   Firm   \n",
       "\n",
       "        Name Surname  Age at time of purchase Age Interval    Y   M   D   \n",
       "178     Kamd      Co                      NaN           NaN NaN NaN NaN  \\\n",
       "192  Marleez      Co                      NaN           NaN NaN NaN NaN   \n",
       "181   Abdiel      Co                      NaN           NaN NaN NaN NaN   \n",
       "189  Marleez      Co                      NaN           NaN NaN NaN NaN   \n",
       "182   Kenyon      Co                      NaN           NaN NaN NaN NaN   \n",
       "\n",
       "    Gender Country       State     Purpose  Deal satisfaction Mortgage   \n",
       "178    NaN     USA  California  Investment                  5       No  \\\n",
       "192    NaN    USA   California  Investment                  5       No   \n",
       "181    NaN     USA      Nevada  Investment                  5      Yes   \n",
       "189    NaN    USA   California  Investment                  5       No   \n",
       "182    NaN     USA      Nevada  Investment                  1      Yes   \n",
       "\n",
       "      Source  \n",
       "178   Agency  \n",
       "192  Website  \n",
       "181  Website  \n",
       "189  Website  \n",
       "182  Website  "
      ]
     },
     "execution_count": 43,
     "metadata": {},
     "output_type": "execute_result"
    }
   ],
   "source": [
    "df[~df['Y'].notnull()].sample(5)"
   ]
  },
  {
   "cell_type": "markdown",
   "metadata": {},
   "source": [
    "Получается, в датасете помимо физических лиц есть некие организации, которые покупали квартиры. Поэтому такие признаки как гендер и возраст для них не заполнялись."
   ]
  },
  {
   "cell_type": "code",
   "execution_count": 44,
   "metadata": {},
   "outputs": [
    {
     "data": {
      "text/html": [
       "<div>\n",
       "<style scoped>\n",
       "    .dataframe tbody tr th:only-of-type {\n",
       "        vertical-align: middle;\n",
       "    }\n",
       "\n",
       "    .dataframe tbody tr th {\n",
       "        vertical-align: top;\n",
       "    }\n",
       "\n",
       "    .dataframe thead th {\n",
       "        text-align: right;\n",
       "    }\n",
       "</style>\n",
       "<table border=\"1\" class=\"dataframe\">\n",
       "  <thead>\n",
       "    <tr style=\"text-align: right;\">\n",
       "      <th></th>\n",
       "      <th>count</th>\n",
       "      <th>mean</th>\n",
       "      <th>std</th>\n",
       "      <th>min</th>\n",
       "      <th>25%</th>\n",
       "      <th>50%</th>\n",
       "      <th>75%</th>\n",
       "      <th>max</th>\n",
       "    </tr>\n",
       "  </thead>\n",
       "  <tbody>\n",
       "    <tr>\n",
       "      <th>ID</th>\n",
       "      <td>195.0</td>\n",
       "      <td>2591.425641</td>\n",
       "      <td>1244.617996</td>\n",
       "      <td>1002.00</td>\n",
       "      <td>2003.50</td>\n",
       "      <td>2054.00</td>\n",
       "      <td>3048.50</td>\n",
       "      <td>5051.0</td>\n",
       "    </tr>\n",
       "    <tr>\n",
       "      <th>Building</th>\n",
       "      <td>195.0</td>\n",
       "      <td>2.564103</td>\n",
       "      <td>1.243434</td>\n",
       "      <td>1.00</td>\n",
       "      <td>2.00</td>\n",
       "      <td>2.00</td>\n",
       "      <td>3.00</td>\n",
       "      <td>5.0</td>\n",
       "    </tr>\n",
       "    <tr>\n",
       "      <th>Year of sale</th>\n",
       "      <td>195.0</td>\n",
       "      <td>2006.333333</td>\n",
       "      <td>1.072941</td>\n",
       "      <td>2004.00</td>\n",
       "      <td>2006.00</td>\n",
       "      <td>2007.00</td>\n",
       "      <td>2007.00</td>\n",
       "      <td>2010.0</td>\n",
       "    </tr>\n",
       "    <tr>\n",
       "      <th>Month of sale</th>\n",
       "      <td>195.0</td>\n",
       "      <td>7.271795</td>\n",
       "      <td>3.378674</td>\n",
       "      <td>1.00</td>\n",
       "      <td>4.00</td>\n",
       "      <td>8.00</td>\n",
       "      <td>10.00</td>\n",
       "      <td>12.0</td>\n",
       "    </tr>\n",
       "    <tr>\n",
       "      <th>Property number</th>\n",
       "      <td>195.0</td>\n",
       "      <td>27.328205</td>\n",
       "      <td>14.830832</td>\n",
       "      <td>1.00</td>\n",
       "      <td>15.00</td>\n",
       "      <td>27.00</td>\n",
       "      <td>39.00</td>\n",
       "      <td>59.0</td>\n",
       "    </tr>\n",
       "    <tr>\n",
       "      <th>Area (ft.)</th>\n",
       "      <td>195.0</td>\n",
       "      <td>899.867128</td>\n",
       "      <td>261.489550</td>\n",
       "      <td>410.71</td>\n",
       "      <td>739.86</td>\n",
       "      <td>785.48</td>\n",
       "      <td>1075.46</td>\n",
       "      <td>1942.5</td>\n",
       "    </tr>\n",
       "    <tr>\n",
       "      <th>Age at time of purchase</th>\n",
       "      <td>178.0</td>\n",
       "      <td>46.151685</td>\n",
       "      <td>12.841692</td>\n",
       "      <td>19.00</td>\n",
       "      <td>37.00</td>\n",
       "      <td>45.00</td>\n",
       "      <td>55.00</td>\n",
       "      <td>76.0</td>\n",
       "    </tr>\n",
       "    <tr>\n",
       "      <th>Y</th>\n",
       "      <td>178.0</td>\n",
       "      <td>1960.325843</td>\n",
       "      <td>12.835575</td>\n",
       "      <td>1931.00</td>\n",
       "      <td>1950.25</td>\n",
       "      <td>1962.00</td>\n",
       "      <td>1969.75</td>\n",
       "      <td>1986.0</td>\n",
       "    </tr>\n",
       "    <tr>\n",
       "      <th>M</th>\n",
       "      <td>178.0</td>\n",
       "      <td>6.752809</td>\n",
       "      <td>3.450312</td>\n",
       "      <td>1.00</td>\n",
       "      <td>4.00</td>\n",
       "      <td>6.00</td>\n",
       "      <td>9.75</td>\n",
       "      <td>15.0</td>\n",
       "    </tr>\n",
       "    <tr>\n",
       "      <th>D</th>\n",
       "      <td>178.0</td>\n",
       "      <td>15.449438</td>\n",
       "      <td>8.457285</td>\n",
       "      <td>1.00</td>\n",
       "      <td>8.00</td>\n",
       "      <td>15.00</td>\n",
       "      <td>23.75</td>\n",
       "      <td>31.0</td>\n",
       "    </tr>\n",
       "    <tr>\n",
       "      <th>Deal satisfaction</th>\n",
       "      <td>195.0</td>\n",
       "      <td>3.605128</td>\n",
       "      <td>1.363355</td>\n",
       "      <td>1.00</td>\n",
       "      <td>3.00</td>\n",
       "      <td>4.00</td>\n",
       "      <td>5.00</td>\n",
       "      <td>5.0</td>\n",
       "    </tr>\n",
       "  </tbody>\n",
       "</table>\n",
       "</div>"
      ],
      "text/plain": [
       "                         count         mean          std      min      25%   \n",
       "ID                       195.0  2591.425641  1244.617996  1002.00  2003.50  \\\n",
       "Building                 195.0     2.564103     1.243434     1.00     2.00   \n",
       "Year of sale             195.0  2006.333333     1.072941  2004.00  2006.00   \n",
       "Month of sale            195.0     7.271795     3.378674     1.00     4.00   \n",
       "Property number          195.0    27.328205    14.830832     1.00    15.00   \n",
       "Area (ft.)               195.0   899.867128   261.489550   410.71   739.86   \n",
       "Age at time of purchase  178.0    46.151685    12.841692    19.00    37.00   \n",
       "Y                        178.0  1960.325843    12.835575  1931.00  1950.25   \n",
       "M                        178.0     6.752809     3.450312     1.00     4.00   \n",
       "D                        178.0    15.449438     8.457285     1.00     8.00   \n",
       "Deal satisfaction        195.0     3.605128     1.363355     1.00     3.00   \n",
       "\n",
       "                             50%      75%     max  \n",
       "ID                       2054.00  3048.50  5051.0  \n",
       "Building                    2.00     3.00     5.0  \n",
       "Year of sale             2007.00  2007.00  2010.0  \n",
       "Month of sale               8.00    10.00    12.0  \n",
       "Property number            27.00    39.00    59.0  \n",
       "Area (ft.)                785.48  1075.46  1942.5  \n",
       "Age at time of purchase    45.00    55.00    76.0  \n",
       "Y                        1962.00  1969.75  1986.0  \n",
       "M                           6.00     9.75    15.0  \n",
       "D                          15.00    23.75    31.0  \n",
       "Deal satisfaction           4.00     5.00     5.0  "
      ]
     },
     "execution_count": 44,
     "metadata": {},
     "output_type": "execute_result"
    }
   ],
   "source": [
    "df.describe().T"
   ]
  },
  {
   "cell_type": "code",
   "execution_count": 45,
   "metadata": {},
   "outputs": [
    {
     "name": "stdout",
     "output_type": "stream",
     "text": [
      "Признак Status имеет одно уникальное значение -  Sold \n"
     ]
    }
   ],
   "source": [
    "#    проверим значения колонок на уникальность\n",
    "for item in df.columns:\n",
    "    if df[item].nunique() == 1:\n",
    "        print(f'Признак {item} имеет одно уникальное значение - {df[item][0]}')"
   ]
  },
  {
   "cell_type": "code",
   "execution_count": 46,
   "metadata": {},
   "outputs": [
    {
     "data": {
      "text/html": [
       "<div>\n",
       "<style scoped>\n",
       "    .dataframe tbody tr th:only-of-type {\n",
       "        vertical-align: middle;\n",
       "    }\n",
       "\n",
       "    .dataframe tbody tr th {\n",
       "        vertical-align: top;\n",
       "    }\n",
       "\n",
       "    .dataframe thead th {\n",
       "        text-align: right;\n",
       "    }\n",
       "</style>\n",
       "<table border=\"1\" class=\"dataframe\">\n",
       "  <thead>\n",
       "    <tr style=\"text-align: right;\">\n",
       "      <th></th>\n",
       "      <th>ID</th>\n",
       "      <th>Building</th>\n",
       "      <th>Year of sale</th>\n",
       "      <th>Month of sale</th>\n",
       "      <th>Type of property</th>\n",
       "      <th>Property number</th>\n",
       "      <th>Area (ft.)</th>\n",
       "      <th>Price</th>\n",
       "      <th>Status</th>\n",
       "      <th>Customer ID</th>\n",
       "      <th>Entity</th>\n",
       "      <th>Name</th>\n",
       "      <th>Surname</th>\n",
       "      <th>Age at time of purchase</th>\n",
       "      <th>Age Interval</th>\n",
       "      <th>Y</th>\n",
       "      <th>M</th>\n",
       "      <th>D</th>\n",
       "      <th>Gender</th>\n",
       "      <th>Country</th>\n",
       "      <th>State</th>\n",
       "      <th>Purpose</th>\n",
       "      <th>Deal satisfaction</th>\n",
       "      <th>Mortgage</th>\n",
       "      <th>Source</th>\n",
       "    </tr>\n",
       "  </thead>\n",
       "  <tbody>\n",
       "    <tr>\n",
       "      <th>140</th>\n",
       "      <td>5050</td>\n",
       "      <td>5</td>\n",
       "      <td>2007</td>\n",
       "      <td>11</td>\n",
       "      <td>Apartment</td>\n",
       "      <td>50</td>\n",
       "      <td>1093.0</td>\n",
       "      <td>$ 390,494.27</td>\n",
       "      <td>Sold</td>\n",
       "      <td>C0140</td>\n",
       "      <td>Individual</td>\n",
       "      <td>Aniya</td>\n",
       "      <td>Miller</td>\n",
       "      <td>57.0</td>\n",
       "      <td>56-65</td>\n",
       "      <td>1950.0</td>\n",
       "      <td>15.0</td>\n",
       "      <td>2.0</td>\n",
       "      <td>F</td>\n",
       "      <td>USA</td>\n",
       "      <td>Nevada</td>\n",
       "      <td>Home</td>\n",
       "      <td>3</td>\n",
       "      <td>No</td>\n",
       "      <td>Website</td>\n",
       "    </tr>\n",
       "  </tbody>\n",
       "</table>\n",
       "</div>"
      ],
      "text/plain": [
       "       ID  Building  Year of sale  Month of sale Type of property   \n",
       "140  5050         5          2007             11        Apartment  \\\n",
       "\n",
       "     Property number  Area (ft.)           Price  Status Customer ID   \n",
       "140               50      1093.0   $ 390,494.27    Sold        C0140  \\\n",
       "\n",
       "         Entity   Name Surname  Age at time of purchase Age Interval        Y   \n",
       "140  Individual  Aniya  Miller                     57.0         56-65  1950.0  \\\n",
       "\n",
       "        M    D Gender Country   State Purpose  Deal satisfaction Mortgage   \n",
       "140  15.0  2.0      F     USA  Nevada    Home                  3       No  \\\n",
       "\n",
       "      Source  \n",
       "140  Website  "
      ]
     },
     "execution_count": 46,
     "metadata": {},
     "output_type": "execute_result"
    }
   ],
   "source": [
    "#    describe показал, что есть значение месяца равное 15\n",
    "#    проверим остальные строки на ошибочные значения\n",
    "df[df['M'] > 12]"
   ]
  },
  {
   "cell_type": "markdown",
   "metadata": {},
   "source": [
    "### Модификация датасета"
   ]
  },
  {
   "cell_type": "markdown",
   "metadata": {},
   "source": [
    "Какие проблемы с данными вы видим:\n",
    "- Названия в колонках имеют пробелы, можно заменить на '_'\n",
    "+ Исправить ошибочное значение месяца в строке с индексом 140\n",
    "- Лишние колонки:\n",
    "    + Property number - номера домов, можно удалить\n",
    "    + Status - одно значение во всех строках (Sold)\n",
    "    + Age at time of purchase - лишняя, мы можем вычислить это значение разницей года рождения и года покупки\n",
    "+ Значения в Price строковые, необходимо перевести в float"
   ]
  },
  {
   "cell_type": "code",
   "execution_count": 47,
   "metadata": {
    "scrolled": true
   },
   "outputs": [
    {
     "data": {
      "text/plain": [
       "dtype('float64')"
      ]
     },
     "execution_count": 47,
     "metadata": {},
     "output_type": "execute_result"
    }
   ],
   "source": [
    "#    чистим значения в Price от лишних символов и переводим в float\n",
    "df['Price'] = df['Price'].str.replace(r'[$ ,]', '', regex=True).astype('float')\n",
    "df['Price'].dtype"
   ]
  },
  {
   "cell_type": "code",
   "execution_count": 48,
   "metadata": {
    "scrolled": true
   },
   "outputs": [
    {
     "data": {
      "text/html": [
       "<div>\n",
       "<style scoped>\n",
       "    .dataframe tbody tr th:only-of-type {\n",
       "        vertical-align: middle;\n",
       "    }\n",
       "\n",
       "    .dataframe tbody tr th {\n",
       "        vertical-align: top;\n",
       "    }\n",
       "\n",
       "    .dataframe thead th {\n",
       "        text-align: right;\n",
       "    }\n",
       "</style>\n",
       "<table border=\"1\" class=\"dataframe\">\n",
       "  <thead>\n",
       "    <tr style=\"text-align: right;\">\n",
       "      <th></th>\n",
       "      <th>D</th>\n",
       "      <th>M</th>\n",
       "    </tr>\n",
       "  </thead>\n",
       "  <tbody>\n",
       "    <tr>\n",
       "      <th>140</th>\n",
       "      <td>15.0</td>\n",
       "      <td>2.0</td>\n",
       "    </tr>\n",
       "  </tbody>\n",
       "</table>\n",
       "</div>"
      ],
      "text/plain": [
       "        D    M\n",
       "140  15.0  2.0"
      ]
     },
     "execution_count": 48,
     "metadata": {},
     "output_type": "execute_result"
    }
   ],
   "source": [
    "#    вероятнее всего, перепутаны местами значения месяца и дня в дате рождения 140-го индекса\n",
    "#    просто поменяем их местами\n",
    "\n",
    "df['D'][140] = 15.\n",
    "df['M'][140] = 2.\n",
    "df[['D', 'M']][140:141]"
   ]
  },
  {
   "cell_type": "code",
   "execution_count": 49,
   "metadata": {
    "scrolled": true
   },
   "outputs": [
    {
     "data": {
      "text/plain": [
       "Index(['ID', 'Building', 'Year of sale', 'Month of sale', 'Type of property',\n",
       "       'Property number', 'Area (ft.)', 'Price', 'Status', 'Customer ID',\n",
       "       'Entity', 'Name', 'Surname', 'Age at time of purchase', 'Age Interval ',\n",
       "       'Y', 'M', 'D', 'Gender', 'Country', 'State', 'Purpose',\n",
       "       'Deal satisfaction', 'Mortgage', 'Source'],\n",
       "      dtype='object')"
      ]
     },
     "execution_count": 49,
     "metadata": {},
     "output_type": "execute_result"
    }
   ],
   "source": [
    "df.columns"
   ]
  },
  {
   "cell_type": "code",
   "execution_count": 50,
   "metadata": {
    "scrolled": true
   },
   "outputs": [],
   "source": [
    "#   изменим футы квадратные на метры квадратные\n",
    "df['Area (ft.)'] = df['Area (ft.)'] / 10.7639"
   ]
  },
  {
   "cell_type": "code",
   "execution_count": 51,
   "metadata": {
    "scrolled": true
   },
   "outputs": [
    {
     "data": {
      "text/plain": [
       "Index(['ID', 'Building', 'Year of sale', 'Month of sale', 'Type of property',\n",
       "       'Area (ft.)', 'Price', 'Customer ID', 'Entity', 'Name', 'Surname',\n",
       "       'Age Interval ', 'Y', 'M', 'D', 'Gender', 'Country', 'State', 'Purpose',\n",
       "       'Deal satisfaction', 'Mortgage', 'Source'],\n",
       "      dtype='object')"
      ]
     },
     "execution_count": 51,
     "metadata": {},
     "output_type": "execute_result"
    }
   ],
   "source": [
    "#    удаляем лишние колонки\n",
    "df.drop(['Property number', 'Status', \n",
    "         'Age at time of purchase'], axis=1, inplace=True)\n",
    "\n",
    "df.columns"
   ]
  },
  {
   "cell_type": "code",
   "execution_count": 52,
   "metadata": {},
   "outputs": [
    {
     "data": {
      "text/plain": [
       "Index(['id', 'num_buildings', 'year_sale', 'month_sale', 'type_property',\n",
       "       'area_m', 'price_usd', 'customer_id', 'entity', 'name', 'surname',\n",
       "       'age_interval', 'y', 'm', 'd', 'gender', 'country', 'state', 'purpose',\n",
       "       'deal_satisfaction', 'mortgage', 'source'],\n",
       "      dtype='object')"
      ]
     },
     "execution_count": 52,
     "metadata": {},
     "output_type": "execute_result"
    }
   ],
   "source": [
    "#    меняем название колонок - избавляемся от пробелов, скобок, точек и т.д.\n",
    "#    также переведем названия в нижний регистр и добавим смысла в некоторые названия\n",
    "df = df.rename(columns=lambda x: re.sub(' ', '_', x)).\\\n",
    "        rename(columns=lambda x: re.sub('of_', '', x)).\\\n",
    "        rename(columns=lambda x: re.sub('[().]', '', x)).\\\n",
    "        rename(str.lower, axis=1).\\\n",
    "        rename(columns={'price': 'price_usd'}).\\\n",
    "        rename(columns={'building': 'num_buildings'}).\\\n",
    "        rename(columns={'age_interval_': 'age_interval'}).\\\n",
    "        rename(columns={'area_ft': 'area_m'})\n",
    "df.columns"
   ]
  },
  {
   "cell_type": "code",
   "execution_count": 53,
   "metadata": {
    "scrolled": true
   },
   "outputs": [
    {
     "data": {
      "text/html": [
       "<div>\n",
       "<style scoped>\n",
       "    .dataframe tbody tr th:only-of-type {\n",
       "        vertical-align: middle;\n",
       "    }\n",
       "\n",
       "    .dataframe tbody tr th {\n",
       "        vertical-align: top;\n",
       "    }\n",
       "\n",
       "    .dataframe thead th {\n",
       "        text-align: right;\n",
       "    }\n",
       "</style>\n",
       "<table border=\"1\" class=\"dataframe\">\n",
       "  <thead>\n",
       "    <tr style=\"text-align: right;\">\n",
       "      <th></th>\n",
       "      <th>id</th>\n",
       "      <th>num_buildings</th>\n",
       "      <th>year_sale</th>\n",
       "      <th>month_sale</th>\n",
       "      <th>type_property</th>\n",
       "      <th>area_m</th>\n",
       "      <th>price_usd</th>\n",
       "      <th>customer_id</th>\n",
       "      <th>entity</th>\n",
       "      <th>name</th>\n",
       "      <th>surname</th>\n",
       "      <th>age_interval</th>\n",
       "      <th>y</th>\n",
       "      <th>m</th>\n",
       "      <th>d</th>\n",
       "      <th>gender</th>\n",
       "      <th>country</th>\n",
       "      <th>state</th>\n",
       "      <th>purpose</th>\n",
       "      <th>deal_satisfaction</th>\n",
       "      <th>mortgage</th>\n",
       "      <th>source</th>\n",
       "    </tr>\n",
       "  </thead>\n",
       "  <tbody>\n",
       "    <tr>\n",
       "      <th>13</th>\n",
       "      <td>2036</td>\n",
       "      <td>2</td>\n",
       "      <td>2006</td>\n",
       "      <td>11</td>\n",
       "      <td>Apartment</td>\n",
       "      <td>103.052797</td>\n",
       "      <td>460001.26</td>\n",
       "      <td>C0061</td>\n",
       "      <td>Individual</td>\n",
       "      <td>Enrique</td>\n",
       "      <td>Cardenas</td>\n",
       "      <td>26-35</td>\n",
       "      <td>1977.0</td>\n",
       "      <td>6.0</td>\n",
       "      <td>10.0</td>\n",
       "      <td>M</td>\n",
       "      <td>USA</td>\n",
       "      <td>California</td>\n",
       "      <td>Home</td>\n",
       "      <td>2</td>\n",
       "      <td>No</td>\n",
       "      <td>Website</td>\n",
       "    </tr>\n",
       "    <tr>\n",
       "      <th>136</th>\n",
       "      <td>5046</td>\n",
       "      <td>5</td>\n",
       "      <td>2007</td>\n",
       "      <td>11</td>\n",
       "      <td>Apartment</td>\n",
       "      <td>74.162711</td>\n",
       "      <td>230216.22</td>\n",
       "      <td>C0147</td>\n",
       "      <td>Individual</td>\n",
       "      <td>Parker</td>\n",
       "      <td>Poole</td>\n",
       "      <td>56-65</td>\n",
       "      <td>1951.0</td>\n",
       "      <td>11.0</td>\n",
       "      <td>10.0</td>\n",
       "      <td>M</td>\n",
       "      <td>USA</td>\n",
       "      <td>California</td>\n",
       "      <td>Home</td>\n",
       "      <td>5</td>\n",
       "      <td>No</td>\n",
       "      <td>Website</td>\n",
       "    </tr>\n",
       "    <tr>\n",
       "      <th>81</th>\n",
       "      <td>3055</td>\n",
       "      <td>3</td>\n",
       "      <td>2007</td>\n",
       "      <td>5</td>\n",
       "      <td>Apartment</td>\n",
       "      <td>113.559212</td>\n",
       "      <td>380809.52</td>\n",
       "      <td>C0099</td>\n",
       "      <td>Individual</td>\n",
       "      <td>Frank</td>\n",
       "      <td>Meyer</td>\n",
       "      <td>36-45</td>\n",
       "      <td>1964.0</td>\n",
       "      <td>3.0</td>\n",
       "      <td>16.0</td>\n",
       "      <td>M</td>\n",
       "      <td>USA</td>\n",
       "      <td>California</td>\n",
       "      <td>Home</td>\n",
       "      <td>3</td>\n",
       "      <td>Yes</td>\n",
       "      <td>Agency</td>\n",
       "    </tr>\n",
       "    <tr>\n",
       "      <th>141</th>\n",
       "      <td>2039</td>\n",
       "      <td>2</td>\n",
       "      <td>2006</td>\n",
       "      <td>8</td>\n",
       "      <td>Apartment</td>\n",
       "      <td>86.198311</td>\n",
       "      <td>293876.27</td>\n",
       "      <td>C0043</td>\n",
       "      <td>Individual</td>\n",
       "      <td>Kayley</td>\n",
       "      <td>Nielsen</td>\n",
       "      <td>56-65</td>\n",
       "      <td>1947.0</td>\n",
       "      <td>4.0</td>\n",
       "      <td>27.0</td>\n",
       "      <td>F</td>\n",
       "      <td>USA</td>\n",
       "      <td>Arizona</td>\n",
       "      <td>Home</td>\n",
       "      <td>4</td>\n",
       "      <td>Yes</td>\n",
       "      <td>Website</td>\n",
       "    </tr>\n",
       "    <tr>\n",
       "      <th>90</th>\n",
       "      <td>4022</td>\n",
       "      <td>4</td>\n",
       "      <td>2007</td>\n",
       "      <td>8</td>\n",
       "      <td>Apartment</td>\n",
       "      <td>73.813395</td>\n",
       "      <td>263790.81</td>\n",
       "      <td>C0058</td>\n",
       "      <td>Individual</td>\n",
       "      <td>Johanna</td>\n",
       "      <td>Fisher</td>\n",
       "      <td>36-45</td>\n",
       "      <td>1962.0</td>\n",
       "      <td>8.0</td>\n",
       "      <td>25.0</td>\n",
       "      <td>F</td>\n",
       "      <td>USA</td>\n",
       "      <td>California</td>\n",
       "      <td>Home</td>\n",
       "      <td>4</td>\n",
       "      <td>Yes</td>\n",
       "      <td>Website</td>\n",
       "    </tr>\n",
       "    <tr>\n",
       "      <th>67</th>\n",
       "      <td>2047</td>\n",
       "      <td>2</td>\n",
       "      <td>2007</td>\n",
       "      <td>2</td>\n",
       "      <td>Apartment</td>\n",
       "      <td>60.368454</td>\n",
       "      <td>214631.68</td>\n",
       "      <td>C0068</td>\n",
       "      <td>Individual</td>\n",
       "      <td>Nicolas</td>\n",
       "      <td>Navarro</td>\n",
       "      <td>36-45</td>\n",
       "      <td>1966.0</td>\n",
       "      <td>6.0</td>\n",
       "      <td>17.0</td>\n",
       "      <td>M</td>\n",
       "      <td>USA</td>\n",
       "      <td>Oregon</td>\n",
       "      <td>Investment</td>\n",
       "      <td>3</td>\n",
       "      <td>No</td>\n",
       "      <td>Agency</td>\n",
       "    </tr>\n",
       "    <tr>\n",
       "      <th>113</th>\n",
       "      <td>3030</td>\n",
       "      <td>3</td>\n",
       "      <td>2006</td>\n",
       "      <td>10</td>\n",
       "      <td>Apartment</td>\n",
       "      <td>66.965505</td>\n",
       "      <td>215774.28</td>\n",
       "      <td>C0052</td>\n",
       "      <td>Individual</td>\n",
       "      <td>Tristian</td>\n",
       "      <td>Fuller</td>\n",
       "      <td>46-55</td>\n",
       "      <td>1956.0</td>\n",
       "      <td>3.0</td>\n",
       "      <td>13.0</td>\n",
       "      <td>M</td>\n",
       "      <td>USA</td>\n",
       "      <td>California</td>\n",
       "      <td>Home</td>\n",
       "      <td>5</td>\n",
       "      <td>No</td>\n",
       "      <td>Agency</td>\n",
       "    </tr>\n",
       "    <tr>\n",
       "      <th>91</th>\n",
       "      <td>3059</td>\n",
       "      <td>3</td>\n",
       "      <td>2007</td>\n",
       "      <td>6</td>\n",
       "      <td>Apartment</td>\n",
       "      <td>108.840662</td>\n",
       "      <td>367976.46</td>\n",
       "      <td>C0107</td>\n",
       "      <td>Individual</td>\n",
       "      <td>Curtis</td>\n",
       "      <td>Howard</td>\n",
       "      <td>36-45</td>\n",
       "      <td>1962.0</td>\n",
       "      <td>9.0</td>\n",
       "      <td>11.0</td>\n",
       "      <td>M</td>\n",
       "      <td>USA</td>\n",
       "      <td>California</td>\n",
       "      <td>Home</td>\n",
       "      <td>2</td>\n",
       "      <td>No</td>\n",
       "      <td>Agency</td>\n",
       "    </tr>\n",
       "    <tr>\n",
       "      <th>12</th>\n",
       "      <td>4035</td>\n",
       "      <td>4</td>\n",
       "      <td>2007</td>\n",
       "      <td>10</td>\n",
       "      <td>Apartment</td>\n",
       "      <td>73.813395</td>\n",
       "      <td>217786.38</td>\n",
       "      <td>C0057</td>\n",
       "      <td>Individual</td>\n",
       "      <td>Michelle</td>\n",
       "      <td>Cameron</td>\n",
       "      <td>26-35</td>\n",
       "      <td>1978.0</td>\n",
       "      <td>6.0</td>\n",
       "      <td>4.0</td>\n",
       "      <td>F</td>\n",
       "      <td>USA</td>\n",
       "      <td>Nevada</td>\n",
       "      <td>Home</td>\n",
       "      <td>3</td>\n",
       "      <td>Yes</td>\n",
       "      <td>Website</td>\n",
       "    </tr>\n",
       "    <tr>\n",
       "      <th>112</th>\n",
       "      <td>3007</td>\n",
       "      <td>3</td>\n",
       "      <td>2006</td>\n",
       "      <td>10</td>\n",
       "      <td>Apartment</td>\n",
       "      <td>66.955286</td>\n",
       "      <td>231552.33</td>\n",
       "      <td>C0052</td>\n",
       "      <td>Individual</td>\n",
       "      <td>Tristian</td>\n",
       "      <td>Fuller</td>\n",
       "      <td>46-55</td>\n",
       "      <td>1956.0</td>\n",
       "      <td>3.0</td>\n",
       "      <td>13.0</td>\n",
       "      <td>M</td>\n",
       "      <td>USA</td>\n",
       "      <td>California</td>\n",
       "      <td>Investment</td>\n",
       "      <td>5</td>\n",
       "      <td>No</td>\n",
       "      <td>Agency</td>\n",
       "    </tr>\n",
       "  </tbody>\n",
       "</table>\n",
       "</div>"
      ],
      "text/plain": [
       "       id  num_buildings  year_sale  month_sale type_property      area_m   \n",
       "13   2036              2       2006          11     Apartment  103.052797  \\\n",
       "136  5046              5       2007          11     Apartment   74.162711   \n",
       "81   3055              3       2007           5     Apartment  113.559212   \n",
       "141  2039              2       2006           8     Apartment   86.198311   \n",
       "90   4022              4       2007           8     Apartment   73.813395   \n",
       "67   2047              2       2007           2     Apartment   60.368454   \n",
       "113  3030              3       2006          10     Apartment   66.965505   \n",
       "91   3059              3       2007           6     Apartment  108.840662   \n",
       "12   4035              4       2007          10     Apartment   73.813395   \n",
       "112  3007              3       2006          10     Apartment   66.955286   \n",
       "\n",
       "     price_usd customer_id      entity      name   surname age_interval   \n",
       "13   460001.26       C0061  Individual   Enrique  Cardenas        26-35  \\\n",
       "136  230216.22       C0147  Individual    Parker     Poole        56-65   \n",
       "81   380809.52       C0099  Individual     Frank     Meyer        36-45   \n",
       "141  293876.27       C0043  Individual    Kayley   Nielsen        56-65   \n",
       "90   263790.81       C0058  Individual   Johanna    Fisher        36-45   \n",
       "67   214631.68       C0068  Individual   Nicolas   Navarro        36-45   \n",
       "113  215774.28       C0052  Individual  Tristian    Fuller        46-55   \n",
       "91   367976.46       C0107  Individual    Curtis    Howard        36-45   \n",
       "12   217786.38       C0057  Individual  Michelle   Cameron        26-35   \n",
       "112  231552.33       C0052  Individual  Tristian    Fuller        46-55   \n",
       "\n",
       "          y     m     d gender country       state     purpose   \n",
       "13   1977.0   6.0  10.0      M     USA  California        Home  \\\n",
       "136  1951.0  11.0  10.0      M     USA  California        Home   \n",
       "81   1964.0   3.0  16.0      M     USA  California        Home   \n",
       "141  1947.0   4.0  27.0      F     USA     Arizona        Home   \n",
       "90   1962.0   8.0  25.0      F     USA  California        Home   \n",
       "67   1966.0   6.0  17.0      M     USA      Oregon  Investment   \n",
       "113  1956.0   3.0  13.0      M     USA  California        Home   \n",
       "91   1962.0   9.0  11.0      M     USA  California        Home   \n",
       "12   1978.0   6.0   4.0      F     USA      Nevada        Home   \n",
       "112  1956.0   3.0  13.0      M     USA  California  Investment   \n",
       "\n",
       "     deal_satisfaction mortgage   source  \n",
       "13                   2       No  Website  \n",
       "136                  5       No  Website  \n",
       "81                   3      Yes   Agency  \n",
       "141                  4      Yes  Website  \n",
       "90                   4      Yes  Website  \n",
       "67                   3       No   Agency  \n",
       "113                  5       No   Agency  \n",
       "91                   2       No   Agency  \n",
       "12                   3      Yes  Website  \n",
       "112                  5       No   Agency  "
      ]
     },
     "execution_count": 53,
     "metadata": {},
     "output_type": "execute_result"
    }
   ],
   "source": [
    "#    взглянем, что получилось после наших манипуляций\n",
    "df.sample(10)"
   ]
  },
  {
   "cell_type": "markdown",
   "metadata": {},
   "source": [
    "### Анализ признаков"
   ]
  },
  {
   "cell_type": "markdown",
   "metadata": {},
   "source": [
    "Теперь посмотрим на некоторые признаки и рассмотрим их поближе. Отразим графически и попробуем сделать какие-то выводы.\n",
    "\n",
    "Я решил разделить наш датасет на две группы - физические лица и компании."
   ]
  },
  {
   "cell_type": "markdown",
   "metadata": {},
   "source": [
    "У физлиц мы проанализируем:\n",
    "- гендер\n",
    "- интервал\n",
    "- цели\n",
    "- цену покупки\n",
    "- площадь\n",
    "\n",
    "У компаний:\n",
    "- цену покупки\n",
    "- цели\n",
    "- площадь\n",
    "\n",
    "Распределение гендера, стоимости,распределение площади, комнат, сезон покупки, , временной интервал"
   ]
  },
  {
   "cell_type": "code",
   "execution_count": 54,
   "metadata": {
    "scrolled": true
   },
   "outputs": [],
   "source": [
    "#   разделим наш датасет df на физлица и компании\n",
    "condition = df['gender'].isnull()\n",
    "\n",
    "#    df_people - физлица\n",
    "df_people = df[~condition]\n",
    "\n",
    "#   df_co - компании\n",
    "df_co = df[condition]\n",
    "df_co.reset_index(inplace=True)\n"
   ]
  },
  {
   "cell_type": "markdown",
   "metadata": {},
   "source": [
    "### Физлица:"
   ]
  },
  {
   "cell_type": "markdown",
   "metadata": {},
   "source": [
    "#### Гендер:"
   ]
  },
  {
   "cell_type": "code",
   "execution_count": 55,
   "metadata": {
    "scrolled": true
   },
   "outputs": [
    {
     "data": {
      "text/plain": [
       "gender\n",
       "M    0.606742\n",
       "F    0.393258\n",
       "Name: proportion, dtype: float64"
      ]
     },
     "execution_count": 55,
     "metadata": {},
     "output_type": "execute_result"
    },
    {
     "data": {
      "image/png": "[encoded data removed]",
      "text/plain": [
       "<Figure size 432x288 with 1 Axes>"
      ]
     },
     "metadata": {
      "needs_background": "light"
     },
     "output_type": "display_data"
    }
   ],
   "source": [
    "sns.histplot(df_people['gender'])\n",
    "df_people['gender'].value_counts(normalize=True)"
   ]
  },
  {
   "cell_type": "markdown",
   "metadata": {},
   "source": [
    "Примерно в 60% случаев покупку дома осуществляют мужчины."
   ]
  },
  {
   "cell_type": "markdown",
   "metadata": {},
   "source": [
    "#### Временные интервалы:"
   ]
  },
  {
   "cell_type": "code",
   "execution_count": 56,
   "metadata": {
    "scrolled": false
   },
   "outputs": [
    {
     "data": {
      "text/plain": [
       "age_interval\n",
       "36-45    0.292135\n",
       "46-55    0.230337\n",
       "26-35    0.202247\n",
       "56-65    0.146067\n",
       "65+      0.101124\n",
       "18-25    0.028090\n",
       "Name: proportion, dtype: float64"
      ]
     },
     "execution_count": 56,
     "metadata": {},
     "output_type": "execute_result"
    },
    {
     "data": {
      "image/png": "[encoded data removed]",
      "text/plain": [
       "<Figure size 432x288 with 1 Axes>"
      ]
     },
     "metadata": {
      "needs_background": "light"
     },
     "output_type": "display_data"
    }
   ],
   "source": [
    "sns.histplot(df_people['age_interval'], kde=True)\n",
    "df_people['age_interval'].value_counts(normalize=True)"
   ]
  },
  {
   "cell_type": "markdown",
   "metadata": {},
   "source": [
    "Наиболее частый возрастной интервал - 36-45 лет"
   ]
  },
  {
   "cell_type": "markdown",
   "metadata": {},
   "source": [
    "#### Цели:"
   ]
  },
  {
   "cell_type": "code",
   "execution_count": 57,
   "metadata": {
    "scrolled": false
   },
   "outputs": [
    {
     "data": {
      "text/plain": [
       "purpose\n",
       "Home          0.662921\n",
       "Investment    0.337079\n",
       "Name: proportion, dtype: float64"
      ]
     },
     "execution_count": 57,
     "metadata": {},
     "output_type": "execute_result"
    },
    {
     "data": {
      "image/png": "[encoded data removed]",
      "text/plain": [
       "<Figure size 432x288 with 1 Axes>"
      ]
     },
     "metadata": {
      "needs_background": "light"
     },
     "output_type": "display_data"
    }
   ],
   "source": [
    "sns.histplot(df_people['purpose'])\n",
    "df_people['purpose'].value_counts(normalize=True)"
   ]
  },
  {
   "cell_type": "markdown",
   "metadata": {},
   "source": [
    "В 2 из 3 случаев люди покупают недвижимость с целью проживания. В остальной трети - инвестиция."
   ]
  },
  {
   "cell_type": "markdown",
   "metadata": {},
   "source": [
    "#### Стоимость недвижимости:"
   ]
  },
  {
   "cell_type": "code",
   "execution_count": 58,
   "metadata": {
    "scrolled": false
   },
   "outputs": [
    {
     "data": {
      "text/plain": [
       "count       178.000000\n",
       "mean     270965.425730\n",
       "std       78525.152444\n",
       "min      153466.710000\n",
       "25%      214826.330000\n",
       "50%      245196.730000\n",
       "75%      309387.082500\n",
       "max      503790.230000\n",
       "Name: price_usd, dtype: float64"
      ]
     },
     "execution_count": 58,
     "metadata": {},
     "output_type": "execute_result"
    },
    {
     "data": {
      "image/png": "[encoded data removed]",
      "text/plain": [
       "<Figure size 720x360 with 1 Axes>"
      ]
     },
     "metadata": {
      "needs_background": "light"
     },
     "output_type": "display_data"
    }
   ],
   "source": [
    "#    отрисуем боксплот\n",
    "fig, ax = plt.subplots(figsize=(10, 5))\n",
    "sns.boxplot(data = df_people['price_usd'], orient='h')\n",
    "df_people['price_usd'].describe().T"
   ]
  },
  {
   "cell_type": "code",
   "execution_count": 59,
   "metadata": {},
   "outputs": [
    {
     "data": {
      "text/plain": [
       "<Axes: xlabel='price_usd', ylabel='Count'>"
      ]
     },
     "execution_count": 59,
     "metadata": {},
     "output_type": "execute_result"
    },
    {
     "data": {
      "image/png": "[encoded data removed]",
      "text/plain": [
       "<Figure size 720x360 with 1 Axes>"
      ]
     },
     "metadata": {
      "needs_background": "light"
     },
     "output_type": "display_data"
    }
   ],
   "source": [
    "#    отрисуем гистограмму\n",
    "fig, ax = plt.subplots(figsize=(10, 5))\n",
    "sns.histplot(df['price_usd'])"
   ]
  },
  {
   "cell_type": "markdown",
   "metadata": {},
   "source": [
    "Боксплот показывает, что есть некие выбросы.\n",
    "\n",
    "Но не думаю, что их можно считать таковыми - это не похоже на аномалии или ошибки данных.\n",
    "Посчитаем через z-score:"
   ]
  },
  {
   "cell_type": "code",
   "execution_count": 60,
   "metadata": {},
   "outputs": [
    {
     "data": {
      "text/plain": [
       "0"
      ]
     },
     "execution_count": 60,
     "metadata": {},
     "output_type": "execute_result"
    }
   ],
   "source": [
    "from scipy.stats import zscore\n",
    "\n",
    "df_people['z_price_usd'] = zscore(df_people['price_usd'])\n",
    "df_people[abs(df_people['z_price_usd']) > 3]['price_usd'].value_counts().sum()"
   ]
  },
  {
   "cell_type": "markdown",
   "metadata": {},
   "source": [
    "Мы не знаем, какое отклонение имеет генеральная совокупность, поэтому будем считать доверительный интервал через t-students "
   ]
  },
  {
   "cell_type": "code",
   "execution_count": 61,
   "metadata": {},
   "outputs": [],
   "source": [
    "#    позаимствуем функцию из лекции\n",
    "def students_t_distribution_confidence_interval(data_points, t_stat_95_cli):\n",
    "    # Obtain statistics for sample\n",
    "    sample_mean = np.mean(data_points)\n",
    "    sample_std = np.std(data_points)\n",
    "    sample_std_err = sample_std / np.sqrt(len(data_points))\n",
    "\n",
    "    # T-stat table degrees = 27 len(datapoints) and alpha 0.05/2 = 0.025 -> the value 2.052\n",
    "    #t_stat_95_cli = 2.052\n",
    "    #print(f\"С вероятностью в 95% средняя цена покупки лежит в диапазоне: [${round(sample_mean - t_stat_95_cli * sample_std_err, 2)}, ${round(sample_mean + t_stat_95_cli * sample_std_err, 2)}]\")\n",
    "    return [sample_mean, t_stat_95_cli * sample_std_err]\n"
   ]
  },
  {
   "cell_type": "code",
   "execution_count": 62,
   "metadata": {},
   "outputs": [
    {
     "data": {
      "text/plain": [
       "178"
      ]
     },
     "execution_count": 62,
     "metadata": {},
     "output_type": "execute_result"
    }
   ],
   "source": [
    "len(df_people['price_usd'])"
   ]
  },
  {
   "cell_type": "code",
   "execution_count": 63,
   "metadata": {
    "scrolled": true
   },
   "outputs": [
    {
     "data": {
      "text/plain": [
       "[270965.4257303371, 11582.186209978849]"
      ]
     },
     "execution_count": 63,
     "metadata": {},
     "output_type": "execute_result"
    }
   ],
   "source": [
    "#   178 значений: t_stat_95_cli = 1.9734\n",
    "#   https://www.tutorialspoint.com/statistics/t_distribution_table.htm\n",
    "students_t_distribution_confidence_interval(df_people['price_usd'], 1.9734)"
   ]
  },
  {
   "cell_type": "markdown",
   "metadata": {},
   "source": [
    "Получается, с 95% вероятностью можем утверждать, что наше среднее лежит в диапазоне $ 270,965.42 ± 11,582.18"
   ]
  },
  {
   "cell_type": "markdown",
   "metadata": {},
   "source": [
    "#### Площадь недвижимости:"
   ]
  },
  {
   "cell_type": "code",
   "execution_count": 64,
   "metadata": {
    "scrolled": false
   },
   "outputs": [
    {
     "data": {
      "text/plain": [
       "<Axes: xlabel='area_m', ylabel='Count'>"
      ]
     },
     "execution_count": 64,
     "metadata": {},
     "output_type": "execute_result"
    },
    {
     "data": {
      "image/png": "[encoded data removed]",
      "text/plain": [
       "<Figure size 432x288 with 1 Axes>"
      ]
     },
     "metadata": {
      "needs_background": "light"
     },
     "output_type": "display_data"
    }
   ],
   "source": [
    "sns.histplot(df_people['area_m'])"
   ]
  },
  {
   "cell_type": "code",
   "execution_count": 65,
   "metadata": {
    "scrolled": true
   },
   "outputs": [
    {
     "data": {
      "text/plain": [
       "<Axes: xlabel='cost_m', ylabel='Count'>"
      ]
     },
     "execution_count": 65,
     "metadata": {},
     "output_type": "execute_result"
    },
    {
     "data": {
      "image/png": "[encoded data removed]",
      "text/plain": [
       "<Figure size 432x288 with 1 Axes>"
      ]
     },
     "metadata": {
      "needs_background": "light"
     },
     "output_type": "display_data"
    }
   ],
   "source": [
    "#   посмотрим на стоимость квадратного метра\n",
    "df_people['cost_m'] = df_people['price_usd']/df_people['area_m']\n",
    "sns.histplot(df_people['cost_m'])"
   ]
  },
  {
   "cell_type": "code",
   "execution_count": 66,
   "metadata": {},
   "outputs": [
    {
     "data": {
      "text/plain": [
       "13    4463.743577\n",
       "Name: cost_m, dtype: float64"
      ]
     },
     "execution_count": 66,
     "metadata": {},
     "output_type": "execute_result"
    }
   ],
   "source": [
    "#   посчитаем z-score\n",
    "df_people['z_cost_m'] = zscore(df_people['cost_m'])\n",
    "df_people[abs(df_people['z_cost_m']) > 3]['cost_m']"
   ]
  },
  {
   "cell_type": "code",
   "execution_count": 67,
   "metadata": {},
   "outputs": [],
   "source": [
    "cost_array = df_people['cost_m'].copy()\n",
    "cost_array.drop(index=13, inplace=True)"
   ]
  },
  {
   "cell_type": "code",
   "execution_count": 68,
   "metadata": {},
   "outputs": [
    {
     "data": {
      "text/plain": [
       "177"
      ]
     },
     "execution_count": 68,
     "metadata": {},
     "output_type": "execute_result"
    }
   ],
   "source": [
    "len(cost_array)"
   ]
  },
  {
   "cell_type": "code",
   "execution_count": 69,
   "metadata": {
    "scrolled": true
   },
   "outputs": [
    {
     "data": {
      "text/plain": [
       "[3223.426276874012, 43.62030211427676]"
      ]
     },
     "execution_count": 69,
     "metadata": {},
     "output_type": "execute_result"
    }
   ],
   "source": [
    "#    177 -> 1.9735\n",
    "students_t_distribution_confidence_interval(cost_array, 1.9735)"
   ]
  },
  {
   "cell_type": "markdown",
   "metadata": {},
   "source": [
    "С 95% вероятностью можем утверждать, что наше средняя цена квадратного метра лежит в диапазоне $ 3,223.42 ± 43.62"
   ]
  },
  {
   "cell_type": "markdown",
   "metadata": {},
   "source": [
    "#### Количество комнат:"
   ]
  },
  {
   "cell_type": "code",
   "execution_count": 70,
   "metadata": {
    "scrolled": true
   },
   "outputs": [
    {
     "data": {
      "text/plain": [
       "num_buildings\n",
       "3    0.297753\n",
       "2    0.292135\n",
       "1    0.174157\n",
       "4    0.129213\n",
       "5    0.106742\n",
       "Name: proportion, dtype: float64"
      ]
     },
     "execution_count": 70,
     "metadata": {},
     "output_type": "execute_result"
    },
    {
     "data": {
      "image/png": "[encoded data removed]",
      "text/plain": [
       "<Figure size 720x360 with 1 Axes>"
      ]
     },
     "metadata": {
      "needs_background": "light"
     },
     "output_type": "display_data"
    }
   ],
   "source": [
    "#    количество комнат\n",
    "fig, ax = plt.subplots(figsize=(10, 5))\n",
    "sns.histplot(df_people['num_buildings'], bins=5)\n",
    "df_people['num_buildings'].value_counts(normalize=True)"
   ]
  },
  {
   "cell_type": "markdown",
   "metadata": {},
   "source": [
    "Практически 60% купленных квартир - 2- и 3-х комнатные."
   ]
  },
  {
   "cell_type": "markdown",
   "metadata": {},
   "source": [
    "#### Ипотека:"
   ]
  },
  {
   "cell_type": "code",
   "execution_count": 71,
   "metadata": {},
   "outputs": [
    {
     "data": {
      "text/plain": [
       "mortgage\n",
       "No     0.679775\n",
       "Yes    0.320225\n",
       "Name: proportion, dtype: float64"
      ]
     },
     "execution_count": 71,
     "metadata": {},
     "output_type": "execute_result"
    },
    {
     "data": {
      "image/png": "[encoded data removed]",
      "text/plain": [
       "<Figure size 720x360 with 1 Axes>"
      ]
     },
     "metadata": {
      "needs_background": "light"
     },
     "output_type": "display_data"
    }
   ],
   "source": [
    "#   ипотека\n",
    "fig, ax = plt.subplots(figsize=(10, 5))\n",
    "sns.histplot(df_people['mortgage'])\n",
    "df_people['mortgage'].value_counts(normalize=True)"
   ]
  },
  {
   "cell_type": "markdown",
   "metadata": {},
   "source": [
    "~68% - недвижимость в ипотеку."
   ]
  },
  {
   "cell_type": "markdown",
   "metadata": {},
   "source": [
    "#### Месяц продажи:"
   ]
  },
  {
   "cell_type": "code",
   "execution_count": 72,
   "metadata": {
    "scrolled": true
   },
   "outputs": [
    {
     "data": {
      "text/plain": [
       "month_sale\n",
       "11    0.140449\n",
       "3     0.123596\n",
       "10    0.101124\n",
       "12    0.101124\n",
       "8     0.101124\n",
       "6     0.084270\n",
       "9     0.078652\n",
       "4     0.073034\n",
       "5     0.061798\n",
       "7     0.044944\n",
       "1     0.044944\n",
       "2     0.044944\n",
       "Name: proportion, dtype: float64"
      ]
     },
     "execution_count": 72,
     "metadata": {},
     "output_type": "execute_result"
    },
    {
     "data": {
      "image/png": "[encoded data removed]",
      "text/plain": [
       "<Figure size 720x360 with 1 Axes>"
      ]
     },
     "metadata": {
      "needs_background": "light"
     },
     "output_type": "display_data"
    }
   ],
   "source": [
    "#    месяц продажи\n",
    "fig, ax = plt.subplots(figsize=(10, 5))\n",
    "sns.histplot(df_people['month_sale'], bins=12)\n",
    "df_people['month_sale'].value_counts(normalize=True)"
   ]
  },
  {
   "cell_type": "markdown",
   "metadata": {},
   "source": [
    "Чаще сделки совершается в ноябре и марте, реже всего - январе, феврале и июле."
   ]
  },
  {
   "cell_type": "markdown",
   "metadata": {},
   "source": [
    "#### Матрица корреляции:"
   ]
  },
  {
   "cell_type": "code",
   "execution_count": 73,
   "metadata": {},
   "outputs": [
    {
     "data": {
      "text/plain": [
       "Index(['id', 'num_buildings', 'year_sale', 'month_sale', 'type_property',\n",
       "       'area_m', 'price_usd', 'customer_id', 'entity', 'name', 'surname',\n",
       "       'age_interval', 'y', 'm', 'd', 'gender', 'country', 'state', 'purpose',\n",
       "       'deal_satisfaction', 'mortgage', 'source', 'z_price_usd', 'cost_m',\n",
       "       'z_cost_m'],\n",
       "      dtype='object')"
      ]
     },
     "execution_count": 73,
     "metadata": {},
     "output_type": "execute_result"
    }
   ],
   "source": [
    "df_people.columns"
   ]
  },
  {
   "cell_type": "code",
   "execution_count": 74,
   "metadata": {
    "scrolled": false
   },
   "outputs": [
    {
     "data": {
      "text/plain": [
       "<Axes: >"
      ]
     },
     "execution_count": 74,
     "metadata": {},
     "output_type": "execute_result"
    },
    {
     "data": {
      "image/png": "[encoded data removed]",
      "text/plain": [
       "<Figure size 864x720 with 2 Axes>"
      ]
     },
     "metadata": {
      "needs_background": "light"
     },
     "output_type": "display_data"
    }
   ],
   "source": [
    "fig, ax = plt.subplots(figsize=(12, 10))\n",
    "sns.heatmap(df_people[['id', 'num_buildings', 'year_sale', 'month_sale', 'area_m', 'price_usd',\n",
    "                       'y', 'm', 'd', 'deal_satisfaction']].\\\n",
    "                        corr(), annot=True, linewidth=.5, cmap='flare')\n",
    "\n",
    "#sns.heatmap(df[['num_buildings', 'area_ft', 'price_usd',\\\n",
    "#               'deal_satisfaction', 'date_birth', 'date_sale']].\\\n",
    "#            corr(), annot=True, linewidth=.5, cmap='viridis')"
   ]
  },
  {
   "cell_type": "markdown",
   "metadata": {},
   "source": [
    "Ожидаемо высокая корреляция площади недвижимости и цены: больше площадь - больше цена.\n",
    "\n",
    "Странная корреляция количества комнат и года продажи: будто бы чем больше год, тем больше комнат. Посмотрим визуально:"
   ]
  },
  {
   "cell_type": "code",
   "execution_count": 75,
   "metadata": {
    "scrolled": false
   },
   "outputs": [
    {
     "data": {
      "text/plain": [
       "<Axes: xlabel='year_sale', ylabel='num_buildings'>"
      ]
     },
     "execution_count": 75,
     "metadata": {},
     "output_type": "execute_result"
    },
    {
     "data": {
      "image/png": "[encoded data removed]",
      "text/plain": [
       "<Figure size 720x360 with 1 Axes>"
      ]
     },
     "metadata": {
      "needs_background": "light"
     },
     "output_type": "display_data"
    }
   ],
   "source": [
    "#    scatterplot года продажи и количество комнат - ничего интересного\n",
    "fig, ax = plt.subplots(figsize=(10, 5))\n",
    "sns.scatterplot(y=df_people['num_buildings'], x=df_people['year_sale'])"
   ]
  },
  {
   "cell_type": "markdown",
   "metadata": {},
   "source": [
    "Выводы по физлицам:\n",
    "Покупатель недвижимости в 60% случаев - мужчина, чаще всего в возрасте от 36 до 45 лет, в 2/3 случаев недвижимость приобретает для собственного проживания, в среднем готов потратить 270,965.42 ± 11,582.18 USD, ожидая цену за кв.метр 3,223.42 ± 43.62 USD, в 60% случаев будет покупать 2- или 3-комнатную недвижимость, в 68% случаев в ипотеку, чаще всего захочет купить недвижимость в ноябре и марте, и реже всего - январе, феврале и июле."
   ]
  },
  {
   "cell_type": "markdown",
   "metadata": {},
   "source": [
    "### Компании"
   ]
  },
  {
   "cell_type": "code",
   "execution_count": 76,
   "metadata": {
    "scrolled": true
   },
   "outputs": [
    {
     "data": {
      "text/plain": [
       "purpose\n",
       "Investment    0.941176\n",
       "Home          0.058824\n",
       "Name: proportion, dtype: float64"
      ]
     },
     "execution_count": 76,
     "metadata": {},
     "output_type": "execute_result"
    },
    {
     "data": {
      "image/png": "[encoded data removed]",
      "text/plain": [
       "<Figure size 432x288 with 1 Axes>"
      ]
     },
     "metadata": {
      "needs_background": "light"
     },
     "output_type": "display_data"
    }
   ],
   "source": [
    "sns.histplot(df_co['purpose'])\n",
    "df_co['purpose'].value_counts(normalize=True)"
   ]
  },
  {
   "cell_type": "markdown",
   "metadata": {},
   "source": [
    "В 94% случаев компании приобретают недвижимость с целью инвестиций."
   ]
  },
  {
   "cell_type": "code",
   "execution_count": 77,
   "metadata": {},
   "outputs": [
    {
     "data": {
      "text/plain": [
       "<Axes: xlabel='price_usd', ylabel='Count'>"
      ]
     },
     "execution_count": 77,
     "metadata": {},
     "output_type": "execute_result"
    },
    {
     "data": {
      "image/png": "[encoded data removed]",
      "text/plain": [
       "<Figure size 432x288 with 1 Axes>"
      ]
     },
     "metadata": {
      "needs_background": "light"
     },
     "output_type": "display_data"
    }
   ],
   "source": [
    "sns.histplot(df_co['price_usd'])"
   ]
  },
  {
   "cell_type": "code",
   "execution_count": 78,
   "metadata": {},
   "outputs": [
    {
     "data": {
      "text/plain": [
       "<Axes: >"
      ]
     },
     "execution_count": 78,
     "metadata": {},
     "output_type": "execute_result"
    },
    {
     "data": {
      "image/png": "[encoded data removed]",
      "text/plain": [
       "<Figure size 432x288 with 1 Axes>"
      ]
     },
     "metadata": {
      "needs_background": "light"
     },
     "output_type": "display_data"
    }
   ],
   "source": [
    "sns.boxplot(df_co['price_usd'], orient='h')"
   ]
  },
  {
   "cell_type": "code",
   "execution_count": 79,
   "metadata": {
    "scrolled": true
   },
   "outputs": [
    {
     "data": {
      "text/plain": [
       "Series([], Name: price_usd, dtype: float64)"
      ]
     },
     "execution_count": 79,
     "metadata": {},
     "output_type": "execute_result"
    }
   ],
   "source": [
    "#   посчитаем z-score\n",
    "df_co['z_price_usd'] = zscore(df_co['price_usd'])\n",
    "df_co[abs(df_co['z_price_usd']) > 3]['price_usd']"
   ]
  },
  {
   "cell_type": "code",
   "execution_count": 80,
   "metadata": {},
   "outputs": [
    {
     "data": {
      "text/plain": [
       "17"
      ]
     },
     "execution_count": 80,
     "metadata": {},
     "output_type": "execute_result"
    }
   ],
   "source": [
    "len(df_co['price_usd'])"
   ]
  },
  {
   "cell_type": "code",
   "execution_count": 81,
   "metadata": {
    "scrolled": true
   },
   "outputs": [
    {
     "data": {
      "text/plain": [
       "[253405.50588235297, 47971.06241172204]"
      ]
     },
     "execution_count": 81,
     "metadata": {},
     "output_type": "execute_result"
    }
   ],
   "source": [
    "#    17 -> 2.1098\n",
    "students_t_distribution_confidence_interval(df_co['price_usd'], 2.1098)"
   ]
  },
  {
   "cell_type": "markdown",
   "metadata": {},
   "source": [
    "С 95% вероятностью можем утверждать, что наше среднее лежит в диапазоне $ 253,405.50 ± 47,971.06"
   ]
  },
  {
   "cell_type": "markdown",
   "metadata": {},
   "source": [
    "#### Площадь:"
   ]
  },
  {
   "cell_type": "code",
   "execution_count": 82,
   "metadata": {},
   "outputs": [
    {
     "data": {
      "text/plain": [
       "<Axes: xlabel='area_m', ylabel='Count'>"
      ]
     },
     "execution_count": 82,
     "metadata": {},
     "output_type": "execute_result"
    },
    {
     "data": {
      "image/png": "[encoded data removed]",
      "text/plain": [
       "<Figure size 432x288 with 1 Axes>"
      ]
     },
     "metadata": {
      "needs_background": "light"
     },
     "output_type": "display_data"
    }
   ],
   "source": [
    "sns.histplot(df_co['area_m'])"
   ]
  },
  {
   "cell_type": "code",
   "execution_count": 83,
   "metadata": {},
   "outputs": [
    {
     "data": {
      "text/plain": [
       "<Axes: xlabel='cost_m', ylabel='Count'>"
      ]
     },
     "execution_count": 83,
     "metadata": {},
     "output_type": "execute_result"
    },
    {
     "data": {
      "image/png": "[encoded data removed]",
      "text/plain": [
       "<Figure size 432x288 with 1 Axes>"
      ]
     },
     "metadata": {
      "needs_background": "light"
     },
     "output_type": "display_data"
    }
   ],
   "source": [
    "df_co['cost_m'] = df_co['price_usd']/df_co['area_m']\n",
    "sns.histplot(df_co['cost_m'])"
   ]
  },
  {
   "cell_type": "code",
   "execution_count": 84,
   "metadata": {},
   "outputs": [
    {
     "data": {
      "text/plain": [
       "Series([], Name: cost_m, dtype: float64)"
      ]
     },
     "execution_count": 84,
     "metadata": {},
     "output_type": "execute_result"
    }
   ],
   "source": [
    "#   посчитаем z-score\n",
    "df_co['z_cost_m'] = zscore(df_co['cost_m'])\n",
    "df_co[abs(df_co['z_cost_m']) > 3]['cost_m']"
   ]
  },
  {
   "cell_type": "code",
   "execution_count": 85,
   "metadata": {
    "scrolled": true
   },
   "outputs": [
    {
     "data": {
      "text/plain": [
       "[3206.0761045385457, 140.49973019770448]"
      ]
     },
     "execution_count": 85,
     "metadata": {},
     "output_type": "execute_result"
    }
   ],
   "source": [
    "cost_array = df_co['cost_m'].copy()\n",
    "students_t_distribution_confidence_interval(cost_array, 1.9735)"
   ]
  },
  {
   "cell_type": "markdown",
   "metadata": {},
   "source": [
    "С 95% вероятностью можем утверждать, что наше средняя цена квадратного метра лежит в диапазоне $ 3,206.07 ± 140.50"
   ]
  },
  {
   "cell_type": "markdown",
   "metadata": {},
   "source": [
    "#### Количество комнат:"
   ]
  },
  {
   "cell_type": "code",
   "execution_count": 86,
   "metadata": {
    "scrolled": false
   },
   "outputs": [
    {
     "data": {
      "text/plain": [
       "num_buildings\n",
       "1    0.882353\n",
       "2    0.117647\n",
       "Name: proportion, dtype: float64"
      ]
     },
     "execution_count": 86,
     "metadata": {},
     "output_type": "execute_result"
    },
    {
     "data": {
      "image/png": "[encoded data removed]",
      "text/plain": [
       "<Figure size 432x288 with 1 Axes>"
      ]
     },
     "metadata": {
      "needs_background": "light"
     },
     "output_type": "display_data"
    }
   ],
   "source": [
    "sns.histplot(df_co['num_buildings'])\n",
    "df_co['num_buildings'].value_counts(normalize=True)"
   ]
  },
  {
   "cell_type": "markdown",
   "metadata": {},
   "source": [
    "В 88.2% случаев компаниями приобретались 1-комнатные, в остальных 11.8% - 2-комнатные."
   ]
  },
  {
   "cell_type": "code",
   "execution_count": 87,
   "metadata": {
    "scrolled": true
   },
   "outputs": [
    {
     "data": {
      "text/plain": [
       "mortgage\n",
       "No     0.764706\n",
       "Yes    0.235294\n",
       "Name: proportion, dtype: float64"
      ]
     },
     "execution_count": 87,
     "metadata": {},
     "output_type": "execute_result"
    },
    {
     "data": {
      "image/png": "[encoded data removed]",
      "text/plain": [
       "<Figure size 432x288 with 1 Axes>"
      ]
     },
     "metadata": {
      "needs_background": "light"
     },
     "output_type": "display_data"
    }
   ],
   "source": [
    "sns.histplot(df_co['mortgage'])\n",
    "df_co['mortgage'].value_counts(normalize=True)"
   ]
  },
  {
   "cell_type": "markdown",
   "metadata": {},
   "source": [
    "Только 23.5% случаев - ипотека."
   ]
  },
  {
   "cell_type": "code",
   "execution_count": 88,
   "metadata": {},
   "outputs": [
    {
     "data": {
      "text/plain": [
       "month_sale\n",
       "7     0.529412\n",
       "3     0.117647\n",
       "11    0.117647\n",
       "12    0.117647\n",
       "9     0.058824\n",
       "10    0.058824\n",
       "Name: proportion, dtype: float64"
      ]
     },
     "execution_count": 88,
     "metadata": {},
     "output_type": "execute_result"
    },
    {
     "data": {
      "image/png": "[encoded data removed]",
      "text/plain": [
       "<Figure size 432x288 with 1 Axes>"
      ]
     },
     "metadata": {
      "needs_background": "light"
     },
     "output_type": "display_data"
    }
   ],
   "source": [
    "sns.histplot(df_co['month_sale'])\n",
    "df_co['month_sale'].value_counts(normalize=True)"
   ]
  },
  {
   "cell_type": "markdown",
   "metadata": {},
   "source": [
    "53% недвижимости куплено в июле."
   ]
  },
  {
   "cell_type": "markdown",
   "metadata": {},
   "source": [
    "Вывод по компаниям:\n",
    "    \n",
    "Компания в подавляющем большинстве случаев (~95%) покупает квартиру с целью инвестиций и стремится потратить\n",
    "253,405.50 ± 47,971.06 USD при цене за кв.метр 3,206.07 ± 140.50 USD. Приобреталось 88% 1-комнатных и 12% - 2-комнатных. В 76.5% компании стараются обойтись без ипотеки. Также большинство приобретений происходило в июле."
   ]
  },
  {
   "cell_type": "code",
   "execution_count": null,
   "metadata": {},
   "outputs": [],
   "source": []
  }
 ],
 "metadata": {
  "kernelspec": {
   "display_name": "Python 3 (ipykernel)",
   "language": "python",
   "name": "python3"
  },
  "language_info": {
   "codemirror_mode": {
    "name": "ipython",
    "version": 3
   },
   "file_extension": ".py",
   "mimetype": "text/x-python",
   "name": "python",
   "nbconvert_exporter": "python",
   "pygments_lexer": "ipython3",
   "version": "3.10.6"
  }
 },
 "nbformat": 4,
 "nbformat_minor": 1
}
